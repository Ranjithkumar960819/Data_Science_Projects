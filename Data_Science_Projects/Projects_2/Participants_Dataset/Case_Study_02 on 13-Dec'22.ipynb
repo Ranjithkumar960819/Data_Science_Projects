{
 "cells": [
  {
   "cell_type": "markdown",
   "id": "9e8cc6d5",
   "metadata": {},
   "source": [
    "## Import Lib"
   ]
  },
  {
   "cell_type": "code",
   "execution_count": 116,
   "id": "7cb43af9",
   "metadata": {},
   "outputs": [],
   "source": [
    "import numpy as np\n",
    "import pandas as pd\n",
    "import seaborn as sns\n",
    "import matplotlib.pyplot as plt\n",
    "\n",
    "import warnings\n",
    "warnings.filterwarnings(\"ignore\")\n",
    "\n",
    "pd.set_option(\"display.max_columns\", 50)\n",
    "plt.rcParams[\"figure.figsize\"] = [15,8]"
   ]
  },
  {
   "cell_type": "markdown",
   "id": "fcaf95d1",
   "metadata": {},
   "source": [
    "## Taxi Trip Fare Prediction Challenge (Taken from MachineHack)"
   ]
  },
  {
   "cell_type": "markdown",
   "id": "a89cd55c",
   "metadata": {},
   "source": [
    "Through a real-world challenge, this hackathon aims to enhance competitors' data science and innovative analytical thinking abilities. Get an opportunity to work on a remarkable data science technology by competing with the best brains in this area at this point in time, where artificial intelligence and machine learning are at the forefront of attention, and find out how you stack up!\n",
    "\n",
    "**This hackathon will try to address the challenges faced by taxi operators in quoting the right fare to customers before starting the trip. However, the details are shared with taxi drivers or operators related to the trip, they find it difficult to quote the right fare because of uncertainties and calculation complexities. The same issue is faced by passengers as well because of inaccurate or irrelevant fares quoted. To find a solution for this, this hackathon provides a historical dataset to participants that includes records of taxi trip details and fares of those trips. Using this dataset, the participants need to build machine learning models for predicting the trip fare based on the given other useful features of the trip.**\n",
    "\n",
    "Overall, it involves using a dataset, finding the best set of features from the dataset, building a machine learning model to predict trip fare based on other trip features and evaluating the predictions using mean squared error and finally submitting the predictions in the given template.\n",
    "\n",
    "## Data description:\n",
    "\n",
    "* Trip_distance: The elapsed trip distance in miles reported by the taximeter.\n",
    "Rate_code: The final rate code is in effect at the end of the trip. 1= Standard rate,2=JFK,3=Newark, 4=Nassau or Westchester, 5=Negotiated fare,6=Group ride\n",
    "* Storeandfwd_flag: This flag indicates whether the trip record was held in vehicle memory before sending it to the vendor and determines if the trip was stored in the server and forwarded to the vendor. Y= store and forward trip N= not a store and forward trip\n",
    "* Payment_type: A numeric code signifying how the passenger paid for the trip. 1= Credit card,2= Cash, 3= No charge, 4= Dispute, 5= Unknown, 6= Voided trip\n",
    "* Fare_amount: The time-and-distance fare calculated by the meter\n",
    "* Extra: Miscellaneous extras and surcharges.\n",
    "* Mta_tax:$0.50 MTA tax that is automatically triggered based on the metered rate in use.\n",
    "* Tip_amount: Tip amount credited to the driver for credit card transactions.\n",
    "* Tolls_amount: Total amount of all tolls paid in the trip.\n",
    "* Imp_surcharge: $0.30 extra charges added automatically to all rides\n",
    "* Total_amount: The total amount charged to passengers. Does not include cash tips\n",
    "* Pickuplocationid: TLC Taxi Zone in which the taximeter was engaged\n",
    "* Dropofflocationid: TLC Taxi Zone in which the taximeter was disengaged\n",
    "* Year: The year in which the taxi trip was taken.\n",
    "* Month: The month on which the taxi trip was taken.\n",
    "* Day: The day on which the taxi trip was taken.\n",
    "* Day_of_week: The day of the week on which the taxi trip was taken\n",
    "* Hour_of_day: Used to determine the hour of the day in 24 hours format\n",
    "* Trip_duration: The total duration of the trip in seconds\n",
    "* calculated_total_amount: The total amount the customer has to pay for the taxi."
   ]
  },
  {
   "cell_type": "markdown",
   "id": "213cf701",
   "metadata": {},
   "source": [
    "## Load the dataset"
   ]
  },
  {
   "cell_type": "code",
   "execution_count": 6,
   "id": "d3f941aa",
   "metadata": {},
   "outputs": [
    {
     "data": {
      "text/plain": [
       "((35000, 20), (15000, 19))"
      ]
     },
     "execution_count": 6,
     "metadata": {},
     "output_type": "execute_result"
    }
   ],
   "source": [
    "train = pd.read_csv(\"train.csv\")\n",
    "test = pd.read_csv(\"test.csv\")\n",
    "\n",
    "train.shape, test.shape"
   ]
  },
  {
   "cell_type": "code",
   "execution_count": 9,
   "id": "7cf7829a",
   "metadata": {},
   "outputs": [
    {
     "data": {
      "text/html": [
       "<div>\n",
       "<style scoped>\n",
       "    .dataframe tbody tr th:only-of-type {\n",
       "        vertical-align: middle;\n",
       "    }\n",
       "\n",
       "    .dataframe tbody tr th {\n",
       "        vertical-align: top;\n",
       "    }\n",
       "\n",
       "    .dataframe thead th {\n",
       "        text-align: right;\n",
       "    }\n",
       "</style>\n",
       "<table border=\"1\" class=\"dataframe\">\n",
       "  <thead>\n",
       "    <tr style=\"text-align: right;\">\n",
       "      <th></th>\n",
       "      <th>trip_distance</th>\n",
       "      <th>rate_code</th>\n",
       "      <th>store_and_fwd_flag</th>\n",
       "      <th>payment_type</th>\n",
       "      <th>fare_amount</th>\n",
       "      <th>extra</th>\n",
       "      <th>mta_tax</th>\n",
       "      <th>tip_amount</th>\n",
       "      <th>tolls_amount</th>\n",
       "      <th>imp_surcharge</th>\n",
       "      <th>total_amount</th>\n",
       "      <th>pickup_location_id</th>\n",
       "      <th>dropoff_location_id</th>\n",
       "      <th>year</th>\n",
       "      <th>month</th>\n",
       "      <th>day</th>\n",
       "      <th>day_of_week</th>\n",
       "      <th>hour_of_day</th>\n",
       "      <th>trip_duration</th>\n",
       "      <th>calculated_total_amount</th>\n",
       "    </tr>\n",
       "  </thead>\n",
       "  <tbody>\n",
       "    <tr>\n",
       "      <th>0</th>\n",
       "      <td>9.01</td>\n",
       "      <td>1</td>\n",
       "      <td>N</td>\n",
       "      <td>1</td>\n",
       "      <td>26.0</td>\n",
       "      <td>0.0</td>\n",
       "      <td>0.5</td>\n",
       "      <td>8.14</td>\n",
       "      <td>5.76</td>\n",
       "      <td>0.3</td>\n",
       "      <td>40.70</td>\n",
       "      <td>262</td>\n",
       "      <td>138</td>\n",
       "      <td>2018</td>\n",
       "      <td>3</td>\n",
       "      <td>7</td>\n",
       "      <td>2</td>\n",
       "      <td>6</td>\n",
       "      <td>2131.0</td>\n",
       "      <td>24.30</td>\n",
       "    </tr>\n",
       "    <tr>\n",
       "      <th>1</th>\n",
       "      <td>0.20</td>\n",
       "      <td>1</td>\n",
       "      <td>N</td>\n",
       "      <td>1</td>\n",
       "      <td>3.0</td>\n",
       "      <td>0.0</td>\n",
       "      <td>0.5</td>\n",
       "      <td>0.75</td>\n",
       "      <td>0.00</td>\n",
       "      <td>0.3</td>\n",
       "      <td>4.55</td>\n",
       "      <td>263</td>\n",
       "      <td>236</td>\n",
       "      <td>2018</td>\n",
       "      <td>2</td>\n",
       "      <td>25</td>\n",
       "      <td>6</td>\n",
       "      <td>10</td>\n",
       "      <td>2377.0</td>\n",
       "      <td>37.40</td>\n",
       "    </tr>\n",
       "    <tr>\n",
       "      <th>2</th>\n",
       "      <td>9.65</td>\n",
       "      <td>1</td>\n",
       "      <td>N</td>\n",
       "      <td>1</td>\n",
       "      <td>41.5</td>\n",
       "      <td>0.0</td>\n",
       "      <td>0.5</td>\n",
       "      <td>9.61</td>\n",
       "      <td>5.76</td>\n",
       "      <td>0.3</td>\n",
       "      <td>57.67</td>\n",
       "      <td>138</td>\n",
       "      <td>230</td>\n",
       "      <td>2018</td>\n",
       "      <td>1</td>\n",
       "      <td>29</td>\n",
       "      <td>0</td>\n",
       "      <td>8</td>\n",
       "      <td>1286.0</td>\n",
       "      <td>30.36</td>\n",
       "    </tr>\n",
       "    <tr>\n",
       "      <th>3</th>\n",
       "      <td>9.50</td>\n",
       "      <td>1</td>\n",
       "      <td>N</td>\n",
       "      <td>1</td>\n",
       "      <td>30.0</td>\n",
       "      <td>0.5</td>\n",
       "      <td>0.5</td>\n",
       "      <td>9.25</td>\n",
       "      <td>5.76</td>\n",
       "      <td>0.3</td>\n",
       "      <td>46.31</td>\n",
       "      <td>186</td>\n",
       "      <td>138</td>\n",
       "      <td>2018</td>\n",
       "      <td>9</td>\n",
       "      <td>25</td>\n",
       "      <td>1</td>\n",
       "      <td>20</td>\n",
       "      <td>2586.0</td>\n",
       "      <td>4.30</td>\n",
       "    </tr>\n",
       "    <tr>\n",
       "      <th>4</th>\n",
       "      <td>5.80</td>\n",
       "      <td>1</td>\n",
       "      <td>N</td>\n",
       "      <td>1</td>\n",
       "      <td>21.5</td>\n",
       "      <td>0.5</td>\n",
       "      <td>0.5</td>\n",
       "      <td>4.56</td>\n",
       "      <td>0.00</td>\n",
       "      <td>0.3</td>\n",
       "      <td>27.36</td>\n",
       "      <td>162</td>\n",
       "      <td>87</td>\n",
       "      <td>2018</td>\n",
       "      <td>8</td>\n",
       "      <td>20</td>\n",
       "      <td>0</td>\n",
       "      <td>21</td>\n",
       "      <td>1575.0</td>\n",
       "      <td>23.80</td>\n",
       "    </tr>\n",
       "  </tbody>\n",
       "</table>\n",
       "</div>"
      ],
      "text/plain": [
       "   trip_distance  rate_code store_and_fwd_flag  payment_type  fare_amount  \\\n",
       "0           9.01          1                  N             1         26.0   \n",
       "1           0.20          1                  N             1          3.0   \n",
       "2           9.65          1                  N             1         41.5   \n",
       "3           9.50          1                  N             1         30.0   \n",
       "4           5.80          1                  N             1         21.5   \n",
       "\n",
       "   extra  mta_tax  tip_amount  tolls_amount  imp_surcharge  total_amount  \\\n",
       "0    0.0      0.5        8.14          5.76            0.3         40.70   \n",
       "1    0.0      0.5        0.75          0.00            0.3          4.55   \n",
       "2    0.0      0.5        9.61          5.76            0.3         57.67   \n",
       "3    0.5      0.5        9.25          5.76            0.3         46.31   \n",
       "4    0.5      0.5        4.56          0.00            0.3         27.36   \n",
       "\n",
       "   pickup_location_id  dropoff_location_id  year  month  day  day_of_week  \\\n",
       "0                 262                  138  2018      3    7            2   \n",
       "1                 263                  236  2018      2   25            6   \n",
       "2                 138                  230  2018      1   29            0   \n",
       "3                 186                  138  2018      9   25            1   \n",
       "4                 162                   87  2018      8   20            0   \n",
       "\n",
       "   hour_of_day  trip_duration  calculated_total_amount  \n",
       "0            6         2131.0                    24.30  \n",
       "1           10         2377.0                    37.40  \n",
       "2            8         1286.0                    30.36  \n",
       "3           20         2586.0                     4.30  \n",
       "4           21         1575.0                    23.80  "
      ]
     },
     "execution_count": 9,
     "metadata": {},
     "output_type": "execute_result"
    }
   ],
   "source": [
    "train.head(5)"
   ]
  },
  {
   "cell_type": "code",
   "execution_count": 8,
   "id": "e5b31f7f",
   "metadata": {},
   "outputs": [
    {
     "data": {
      "text/html": [
       "<div>\n",
       "<style scoped>\n",
       "    .dataframe tbody tr th:only-of-type {\n",
       "        vertical-align: middle;\n",
       "    }\n",
       "\n",
       "    .dataframe tbody tr th {\n",
       "        vertical-align: top;\n",
       "    }\n",
       "\n",
       "    .dataframe thead th {\n",
       "        text-align: right;\n",
       "    }\n",
       "</style>\n",
       "<table border=\"1\" class=\"dataframe\">\n",
       "  <thead>\n",
       "    <tr style=\"text-align: right;\">\n",
       "      <th></th>\n",
       "      <th>trip_distance</th>\n",
       "      <th>rate_code</th>\n",
       "      <th>store_and_fwd_flag</th>\n",
       "      <th>payment_type</th>\n",
       "      <th>fare_amount</th>\n",
       "      <th>extra</th>\n",
       "      <th>mta_tax</th>\n",
       "      <th>tip_amount</th>\n",
       "      <th>tolls_amount</th>\n",
       "      <th>imp_surcharge</th>\n",
       "      <th>total_amount</th>\n",
       "      <th>pickup_location_id</th>\n",
       "      <th>dropoff_location_id</th>\n",
       "      <th>year</th>\n",
       "      <th>month</th>\n",
       "      <th>day</th>\n",
       "      <th>day_of_week</th>\n",
       "      <th>hour_of_day</th>\n",
       "      <th>trip_duration</th>\n",
       "    </tr>\n",
       "  </thead>\n",
       "  <tbody>\n",
       "    <tr>\n",
       "      <th>0</th>\n",
       "      <td>15.70</td>\n",
       "      <td>1</td>\n",
       "      <td>N</td>\n",
       "      <td>2</td>\n",
       "      <td>45.0</td>\n",
       "      <td>0.0</td>\n",
       "      <td>0.5</td>\n",
       "      <td>0.00</td>\n",
       "      <td>0.00</td>\n",
       "      <td>0.3</td>\n",
       "      <td>45.80</td>\n",
       "      <td>132</td>\n",
       "      <td>146</td>\n",
       "      <td>2018</td>\n",
       "      <td>10</td>\n",
       "      <td>20</td>\n",
       "      <td>5</td>\n",
       "      <td>16</td>\n",
       "      <td>3967.0</td>\n",
       "    </tr>\n",
       "    <tr>\n",
       "      <th>1</th>\n",
       "      <td>7.30</td>\n",
       "      <td>1</td>\n",
       "      <td>N</td>\n",
       "      <td>1</td>\n",
       "      <td>25.5</td>\n",
       "      <td>0.0</td>\n",
       "      <td>0.5</td>\n",
       "      <td>7.89</td>\n",
       "      <td>0.00</td>\n",
       "      <td>0.3</td>\n",
       "      <td>34.19</td>\n",
       "      <td>186</td>\n",
       "      <td>69</td>\n",
       "      <td>2018</td>\n",
       "      <td>2</td>\n",
       "      <td>24</td>\n",
       "      <td>5</td>\n",
       "      <td>15</td>\n",
       "      <td>1491.0</td>\n",
       "    </tr>\n",
       "    <tr>\n",
       "      <th>2</th>\n",
       "      <td>14.87</td>\n",
       "      <td>1</td>\n",
       "      <td>N</td>\n",
       "      <td>1</td>\n",
       "      <td>40.5</td>\n",
       "      <td>0.5</td>\n",
       "      <td>0.5</td>\n",
       "      <td>8.36</td>\n",
       "      <td>0.00</td>\n",
       "      <td>0.3</td>\n",
       "      <td>50.16</td>\n",
       "      <td>138</td>\n",
       "      <td>89</td>\n",
       "      <td>2018</td>\n",
       "      <td>9</td>\n",
       "      <td>11</td>\n",
       "      <td>1</td>\n",
       "      <td>22</td>\n",
       "      <td>1395.0</td>\n",
       "    </tr>\n",
       "    <tr>\n",
       "      <th>3</th>\n",
       "      <td>2.90</td>\n",
       "      <td>1</td>\n",
       "      <td>N</td>\n",
       "      <td>2</td>\n",
       "      <td>22.0</td>\n",
       "      <td>0.0</td>\n",
       "      <td>0.5</td>\n",
       "      <td>0.00</td>\n",
       "      <td>0.00</td>\n",
       "      <td>0.3</td>\n",
       "      <td>22.80</td>\n",
       "      <td>90</td>\n",
       "      <td>162</td>\n",
       "      <td>2018</td>\n",
       "      <td>6</td>\n",
       "      <td>7</td>\n",
       "      <td>3</td>\n",
       "      <td>11</td>\n",
       "      <td>1742.0</td>\n",
       "    </tr>\n",
       "    <tr>\n",
       "      <th>4</th>\n",
       "      <td>8.96</td>\n",
       "      <td>1</td>\n",
       "      <td>N</td>\n",
       "      <td>1</td>\n",
       "      <td>32.0</td>\n",
       "      <td>0.0</td>\n",
       "      <td>0.5</td>\n",
       "      <td>0.00</td>\n",
       "      <td>5.76</td>\n",
       "      <td>0.3</td>\n",
       "      <td>38.56</td>\n",
       "      <td>138</td>\n",
       "      <td>186</td>\n",
       "      <td>2018</td>\n",
       "      <td>4</td>\n",
       "      <td>20</td>\n",
       "      <td>4</td>\n",
       "      <td>10</td>\n",
       "      <td>1623.0</td>\n",
       "    </tr>\n",
       "  </tbody>\n",
       "</table>\n",
       "</div>"
      ],
      "text/plain": [
       "   trip_distance  rate_code store_and_fwd_flag  payment_type  fare_amount  \\\n",
       "0          15.70          1                  N             2         45.0   \n",
       "1           7.30          1                  N             1         25.5   \n",
       "2          14.87          1                  N             1         40.5   \n",
       "3           2.90          1                  N             2         22.0   \n",
       "4           8.96          1                  N             1         32.0   \n",
       "\n",
       "   extra  mta_tax  tip_amount  tolls_amount  imp_surcharge  total_amount  \\\n",
       "0    0.0      0.5        0.00          0.00            0.3         45.80   \n",
       "1    0.0      0.5        7.89          0.00            0.3         34.19   \n",
       "2    0.5      0.5        8.36          0.00            0.3         50.16   \n",
       "3    0.0      0.5        0.00          0.00            0.3         22.80   \n",
       "4    0.0      0.5        0.00          5.76            0.3         38.56   \n",
       "\n",
       "   pickup_location_id  dropoff_location_id  year  month  day  day_of_week  \\\n",
       "0                 132                  146  2018     10   20            5   \n",
       "1                 186                   69  2018      2   24            5   \n",
       "2                 138                   89  2018      9   11            1   \n",
       "3                  90                  162  2018      6    7            3   \n",
       "4                 138                  186  2018      4   20            4   \n",
       "\n",
       "   hour_of_day  trip_duration  \n",
       "0           16         3967.0  \n",
       "1           15         1491.0  \n",
       "2           22         1395.0  \n",
       "3           11         1742.0  \n",
       "4           10         1623.0  "
      ]
     },
     "execution_count": 8,
     "metadata": {},
     "output_type": "execute_result"
    }
   ],
   "source": [
    "test.head(5)"
   ]
  },
  {
   "cell_type": "markdown",
   "id": "1b55c9a0",
   "metadata": {},
   "source": [
    "## Univariate Analysis"
   ]
  },
  {
   "cell_type": "code",
   "execution_count": 11,
   "id": "7982b8cb",
   "metadata": {},
   "outputs": [],
   "source": [
    "combined = pd.concat([train, test], ignore_index = True)"
   ]
  },
  {
   "cell_type": "code",
   "execution_count": 12,
   "id": "55cc99a3",
   "metadata": {
    "scrolled": false
   },
   "outputs": [
    {
     "data": {
      "text/html": [
       "<div>\n",
       "<style scoped>\n",
       "    .dataframe tbody tr th:only-of-type {\n",
       "        vertical-align: middle;\n",
       "    }\n",
       "\n",
       "    .dataframe tbody tr th {\n",
       "        vertical-align: top;\n",
       "    }\n",
       "\n",
       "    .dataframe thead th {\n",
       "        text-align: right;\n",
       "    }\n",
       "</style>\n",
       "<table border=\"1\" class=\"dataframe\">\n",
       "  <thead>\n",
       "    <tr style=\"text-align: right;\">\n",
       "      <th></th>\n",
       "      <th>trip_distance</th>\n",
       "      <th>rate_code</th>\n",
       "      <th>store_and_fwd_flag</th>\n",
       "      <th>payment_type</th>\n",
       "      <th>fare_amount</th>\n",
       "      <th>extra</th>\n",
       "      <th>mta_tax</th>\n",
       "      <th>tip_amount</th>\n",
       "      <th>tolls_amount</th>\n",
       "      <th>imp_surcharge</th>\n",
       "      <th>total_amount</th>\n",
       "      <th>pickup_location_id</th>\n",
       "      <th>dropoff_location_id</th>\n",
       "      <th>year</th>\n",
       "      <th>month</th>\n",
       "      <th>day</th>\n",
       "      <th>day_of_week</th>\n",
       "      <th>hour_of_day</th>\n",
       "      <th>trip_duration</th>\n",
       "      <th>calculated_total_amount</th>\n",
       "    </tr>\n",
       "  </thead>\n",
       "  <tbody>\n",
       "    <tr>\n",
       "      <th>0</th>\n",
       "      <td>9.01</td>\n",
       "      <td>1</td>\n",
       "      <td>N</td>\n",
       "      <td>1</td>\n",
       "      <td>26.0</td>\n",
       "      <td>0.0</td>\n",
       "      <td>0.5</td>\n",
       "      <td>8.14</td>\n",
       "      <td>5.76</td>\n",
       "      <td>0.3</td>\n",
       "      <td>40.70</td>\n",
       "      <td>262</td>\n",
       "      <td>138</td>\n",
       "      <td>2018</td>\n",
       "      <td>3</td>\n",
       "      <td>7</td>\n",
       "      <td>2</td>\n",
       "      <td>6</td>\n",
       "      <td>2131.0</td>\n",
       "      <td>24.30</td>\n",
       "    </tr>\n",
       "    <tr>\n",
       "      <th>1</th>\n",
       "      <td>0.20</td>\n",
       "      <td>1</td>\n",
       "      <td>N</td>\n",
       "      <td>1</td>\n",
       "      <td>3.0</td>\n",
       "      <td>0.0</td>\n",
       "      <td>0.5</td>\n",
       "      <td>0.75</td>\n",
       "      <td>0.00</td>\n",
       "      <td>0.3</td>\n",
       "      <td>4.55</td>\n",
       "      <td>263</td>\n",
       "      <td>236</td>\n",
       "      <td>2018</td>\n",
       "      <td>2</td>\n",
       "      <td>25</td>\n",
       "      <td>6</td>\n",
       "      <td>10</td>\n",
       "      <td>2377.0</td>\n",
       "      <td>37.40</td>\n",
       "    </tr>\n",
       "    <tr>\n",
       "      <th>2</th>\n",
       "      <td>9.65</td>\n",
       "      <td>1</td>\n",
       "      <td>N</td>\n",
       "      <td>1</td>\n",
       "      <td>41.5</td>\n",
       "      <td>0.0</td>\n",
       "      <td>0.5</td>\n",
       "      <td>9.61</td>\n",
       "      <td>5.76</td>\n",
       "      <td>0.3</td>\n",
       "      <td>57.67</td>\n",
       "      <td>138</td>\n",
       "      <td>230</td>\n",
       "      <td>2018</td>\n",
       "      <td>1</td>\n",
       "      <td>29</td>\n",
       "      <td>0</td>\n",
       "      <td>8</td>\n",
       "      <td>1286.0</td>\n",
       "      <td>30.36</td>\n",
       "    </tr>\n",
       "    <tr>\n",
       "      <th>3</th>\n",
       "      <td>9.50</td>\n",
       "      <td>1</td>\n",
       "      <td>N</td>\n",
       "      <td>1</td>\n",
       "      <td>30.0</td>\n",
       "      <td>0.5</td>\n",
       "      <td>0.5</td>\n",
       "      <td>9.25</td>\n",
       "      <td>5.76</td>\n",
       "      <td>0.3</td>\n",
       "      <td>46.31</td>\n",
       "      <td>186</td>\n",
       "      <td>138</td>\n",
       "      <td>2018</td>\n",
       "      <td>9</td>\n",
       "      <td>25</td>\n",
       "      <td>1</td>\n",
       "      <td>20</td>\n",
       "      <td>2586.0</td>\n",
       "      <td>4.30</td>\n",
       "    </tr>\n",
       "    <tr>\n",
       "      <th>4</th>\n",
       "      <td>5.80</td>\n",
       "      <td>1</td>\n",
       "      <td>N</td>\n",
       "      <td>1</td>\n",
       "      <td>21.5</td>\n",
       "      <td>0.5</td>\n",
       "      <td>0.5</td>\n",
       "      <td>4.56</td>\n",
       "      <td>0.00</td>\n",
       "      <td>0.3</td>\n",
       "      <td>27.36</td>\n",
       "      <td>162</td>\n",
       "      <td>87</td>\n",
       "      <td>2018</td>\n",
       "      <td>8</td>\n",
       "      <td>20</td>\n",
       "      <td>0</td>\n",
       "      <td>21</td>\n",
       "      <td>1575.0</td>\n",
       "      <td>23.80</td>\n",
       "    </tr>\n",
       "  </tbody>\n",
       "</table>\n",
       "</div>"
      ],
      "text/plain": [
       "   trip_distance  rate_code store_and_fwd_flag  payment_type  fare_amount  \\\n",
       "0           9.01          1                  N             1         26.0   \n",
       "1           0.20          1                  N             1          3.0   \n",
       "2           9.65          1                  N             1         41.5   \n",
       "3           9.50          1                  N             1         30.0   \n",
       "4           5.80          1                  N             1         21.5   \n",
       "\n",
       "   extra  mta_tax  tip_amount  tolls_amount  imp_surcharge  total_amount  \\\n",
       "0    0.0      0.5        8.14          5.76            0.3         40.70   \n",
       "1    0.0      0.5        0.75          0.00            0.3          4.55   \n",
       "2    0.0      0.5        9.61          5.76            0.3         57.67   \n",
       "3    0.5      0.5        9.25          5.76            0.3         46.31   \n",
       "4    0.5      0.5        4.56          0.00            0.3         27.36   \n",
       "\n",
       "   pickup_location_id  dropoff_location_id  year  month  day  day_of_week  \\\n",
       "0                 262                  138  2018      3    7            2   \n",
       "1                 263                  236  2018      2   25            6   \n",
       "2                 138                  230  2018      1   29            0   \n",
       "3                 186                  138  2018      9   25            1   \n",
       "4                 162                   87  2018      8   20            0   \n",
       "\n",
       "   hour_of_day  trip_duration  calculated_total_amount  \n",
       "0            6         2131.0                    24.30  \n",
       "1           10         2377.0                    37.40  \n",
       "2            8         1286.0                    30.36  \n",
       "3           20         2586.0                     4.30  \n",
       "4           21         1575.0                    23.80  "
      ]
     },
     "execution_count": 12,
     "metadata": {},
     "output_type": "execute_result"
    }
   ],
   "source": [
    "combined.head()"
   ]
  },
  {
   "cell_type": "code",
   "execution_count": 13,
   "id": "02088499",
   "metadata": {},
   "outputs": [
    {
     "data": {
      "text/plain": [
       "Index(['trip_distance', 'rate_code', 'payment_type', 'fare_amount', 'extra',\n",
       "       'mta_tax', 'tip_amount', 'tolls_amount', 'imp_surcharge',\n",
       "       'total_amount', 'pickup_location_id', 'dropoff_location_id', 'year',\n",
       "       'month', 'day', 'day_of_week', 'hour_of_day', 'trip_duration',\n",
       "       'calculated_total_amount'],\n",
       "      dtype='object')"
      ]
     },
     "execution_count": 13,
     "metadata": {},
     "output_type": "execute_result"
    }
   ],
   "source": [
    "combined.select_dtypes(include = np.number).columns"
   ]
  },
  {
   "cell_type": "code",
   "execution_count": 19,
   "id": "faf876cf",
   "metadata": {},
   "outputs": [
    {
     "name": "stdout",
     "output_type": "stream",
     "text": [
      "[1 3 5 4 2]\n",
      "[0.5 0. ]\n",
      "[1 2 3 4]\n",
      "[0.3 0. ]\n"
     ]
    }
   ],
   "source": [
    "print(combined.rate_code.unique())\n",
    "print(combined.mta_tax.unique())\n",
    "print(combined.payment_type.unique())\n",
    "print(combined.imp_surcharge.unque())"
   ]
  },
  {
   "cell_type": "code",
   "execution_count": 20,
   "id": "ddfd8707",
   "metadata": {},
   "outputs": [],
   "source": [
    "## Converting above variables in Object\n",
    "\n",
    "combined[\"imp_surcharge\"] = combined.imp_surcharge.astype(\"object\")\n",
    "combined[\"mta_tax\"] = combined.mta_tax.astype(\"object\")\n",
    "combined[\"payment_type\"] = combined.payment_type.astype(\"object\")\n",
    "combined[\"rate_code\"] = combined.rate_code.astype(\"object\")"
   ]
  },
  {
   "cell_type": "code",
   "execution_count": 22,
   "id": "535f7dda",
   "metadata": {},
   "outputs": [
    {
     "data": {
      "text/html": [
       "<div>\n",
       "<style scoped>\n",
       "    .dataframe tbody tr th:only-of-type {\n",
       "        vertical-align: middle;\n",
       "    }\n",
       "\n",
       "    .dataframe tbody tr th {\n",
       "        vertical-align: top;\n",
       "    }\n",
       "\n",
       "    .dataframe thead th {\n",
       "        text-align: right;\n",
       "    }\n",
       "</style>\n",
       "<table border=\"1\" class=\"dataframe\">\n",
       "  <thead>\n",
       "    <tr style=\"text-align: right;\">\n",
       "      <th></th>\n",
       "      <th>trip_distance</th>\n",
       "      <th>rate_code</th>\n",
       "      <th>store_and_fwd_flag</th>\n",
       "      <th>payment_type</th>\n",
       "      <th>fare_amount</th>\n",
       "      <th>extra</th>\n",
       "      <th>mta_tax</th>\n",
       "      <th>tip_amount</th>\n",
       "      <th>tolls_amount</th>\n",
       "      <th>imp_surcharge</th>\n",
       "      <th>total_amount</th>\n",
       "      <th>pickup_location_id</th>\n",
       "      <th>dropoff_location_id</th>\n",
       "      <th>year</th>\n",
       "      <th>month</th>\n",
       "      <th>day</th>\n",
       "      <th>day_of_week</th>\n",
       "      <th>hour_of_day</th>\n",
       "      <th>trip_duration</th>\n",
       "      <th>calculated_total_amount</th>\n",
       "    </tr>\n",
       "  </thead>\n",
       "  <tbody>\n",
       "    <tr>\n",
       "      <th>0</th>\n",
       "      <td>9.01</td>\n",
       "      <td>1</td>\n",
       "      <td>N</td>\n",
       "      <td>1</td>\n",
       "      <td>26.0</td>\n",
       "      <td>0.0</td>\n",
       "      <td>0.5</td>\n",
       "      <td>8.14</td>\n",
       "      <td>5.76</td>\n",
       "      <td>0.3</td>\n",
       "      <td>40.70</td>\n",
       "      <td>262</td>\n",
       "      <td>138</td>\n",
       "      <td>2018</td>\n",
       "      <td>3</td>\n",
       "      <td>7</td>\n",
       "      <td>2</td>\n",
       "      <td>6</td>\n",
       "      <td>2131.0</td>\n",
       "      <td>24.30</td>\n",
       "    </tr>\n",
       "    <tr>\n",
       "      <th>1</th>\n",
       "      <td>0.20</td>\n",
       "      <td>1</td>\n",
       "      <td>N</td>\n",
       "      <td>1</td>\n",
       "      <td>3.0</td>\n",
       "      <td>0.0</td>\n",
       "      <td>0.5</td>\n",
       "      <td>0.75</td>\n",
       "      <td>0.00</td>\n",
       "      <td>0.3</td>\n",
       "      <td>4.55</td>\n",
       "      <td>263</td>\n",
       "      <td>236</td>\n",
       "      <td>2018</td>\n",
       "      <td>2</td>\n",
       "      <td>25</td>\n",
       "      <td>6</td>\n",
       "      <td>10</td>\n",
       "      <td>2377.0</td>\n",
       "      <td>37.40</td>\n",
       "    </tr>\n",
       "    <tr>\n",
       "      <th>2</th>\n",
       "      <td>9.65</td>\n",
       "      <td>1</td>\n",
       "      <td>N</td>\n",
       "      <td>1</td>\n",
       "      <td>41.5</td>\n",
       "      <td>0.0</td>\n",
       "      <td>0.5</td>\n",
       "      <td>9.61</td>\n",
       "      <td>5.76</td>\n",
       "      <td>0.3</td>\n",
       "      <td>57.67</td>\n",
       "      <td>138</td>\n",
       "      <td>230</td>\n",
       "      <td>2018</td>\n",
       "      <td>1</td>\n",
       "      <td>29</td>\n",
       "      <td>0</td>\n",
       "      <td>8</td>\n",
       "      <td>1286.0</td>\n",
       "      <td>30.36</td>\n",
       "    </tr>\n",
       "    <tr>\n",
       "      <th>3</th>\n",
       "      <td>9.50</td>\n",
       "      <td>1</td>\n",
       "      <td>N</td>\n",
       "      <td>1</td>\n",
       "      <td>30.0</td>\n",
       "      <td>0.5</td>\n",
       "      <td>0.5</td>\n",
       "      <td>9.25</td>\n",
       "      <td>5.76</td>\n",
       "      <td>0.3</td>\n",
       "      <td>46.31</td>\n",
       "      <td>186</td>\n",
       "      <td>138</td>\n",
       "      <td>2018</td>\n",
       "      <td>9</td>\n",
       "      <td>25</td>\n",
       "      <td>1</td>\n",
       "      <td>20</td>\n",
       "      <td>2586.0</td>\n",
       "      <td>4.30</td>\n",
       "    </tr>\n",
       "    <tr>\n",
       "      <th>4</th>\n",
       "      <td>5.80</td>\n",
       "      <td>1</td>\n",
       "      <td>N</td>\n",
       "      <td>1</td>\n",
       "      <td>21.5</td>\n",
       "      <td>0.5</td>\n",
       "      <td>0.5</td>\n",
       "      <td>4.56</td>\n",
       "      <td>0.00</td>\n",
       "      <td>0.3</td>\n",
       "      <td>27.36</td>\n",
       "      <td>162</td>\n",
       "      <td>87</td>\n",
       "      <td>2018</td>\n",
       "      <td>8</td>\n",
       "      <td>20</td>\n",
       "      <td>0</td>\n",
       "      <td>21</td>\n",
       "      <td>1575.0</td>\n",
       "      <td>23.80</td>\n",
       "    </tr>\n",
       "  </tbody>\n",
       "</table>\n",
       "</div>"
      ],
      "text/plain": [
       "   trip_distance rate_code store_and_fwd_flag payment_type  fare_amount  \\\n",
       "0           9.01         1                  N            1         26.0   \n",
       "1           0.20         1                  N            1          3.0   \n",
       "2           9.65         1                  N            1         41.5   \n",
       "3           9.50         1                  N            1         30.0   \n",
       "4           5.80         1                  N            1         21.5   \n",
       "\n",
       "   extra mta_tax  tip_amount  tolls_amount imp_surcharge  total_amount  \\\n",
       "0    0.0     0.5        8.14          5.76           0.3         40.70   \n",
       "1    0.0     0.5        0.75          0.00           0.3          4.55   \n",
       "2    0.0     0.5        9.61          5.76           0.3         57.67   \n",
       "3    0.5     0.5        9.25          5.76           0.3         46.31   \n",
       "4    0.5     0.5        4.56          0.00           0.3         27.36   \n",
       "\n",
       "   pickup_location_id  dropoff_location_id  year  month  day  day_of_week  \\\n",
       "0                 262                  138  2018      3    7            2   \n",
       "1                 263                  236  2018      2   25            6   \n",
       "2                 138                  230  2018      1   29            0   \n",
       "3                 186                  138  2018      9   25            1   \n",
       "4                 162                   87  2018      8   20            0   \n",
       "\n",
       "   hour_of_day  trip_duration  calculated_total_amount  \n",
       "0            6         2131.0                    24.30  \n",
       "1           10         2377.0                    37.40  \n",
       "2            8         1286.0                    30.36  \n",
       "3           20         2586.0                     4.30  \n",
       "4           21         1575.0                    23.80  "
      ]
     },
     "execution_count": 22,
     "metadata": {},
     "output_type": "execute_result"
    }
   ],
   "source": [
    "combined.head()"
   ]
  },
  {
   "cell_type": "code",
   "execution_count": 23,
   "id": "f11b0f25",
   "metadata": {},
   "outputs": [
    {
     "data": {
      "text/plain": [
       "trip_distance              float64\n",
       "rate_code                   object\n",
       "store_and_fwd_flag          object\n",
       "payment_type                object\n",
       "fare_amount                float64\n",
       "extra                      float64\n",
       "mta_tax                     object\n",
       "tip_amount                 float64\n",
       "tolls_amount               float64\n",
       "imp_surcharge               object\n",
       "total_amount               float64\n",
       "pickup_location_id           int64\n",
       "dropoff_location_id          int64\n",
       "year                         int64\n",
       "month                        int64\n",
       "day                          int64\n",
       "day_of_week                  int64\n",
       "hour_of_day                  int64\n",
       "trip_duration              float64\n",
       "calculated_total_amount    float64\n",
       "dtype: object"
      ]
     },
     "execution_count": 23,
     "metadata": {},
     "output_type": "execute_result"
    }
   ],
   "source": [
    "combined.dtypes"
   ]
  },
  {
   "cell_type": "code",
   "execution_count": 24,
   "id": "9ec14459",
   "metadata": {
    "scrolled": true
   },
   "outputs": [
    {
     "data": {
      "text/plain": [
       "Index(['trip_distance', 'fare_amount', 'extra', 'tip_amount', 'tolls_amount',\n",
       "       'total_amount', 'pickup_location_id', 'dropoff_location_id', 'year',\n",
       "       'month', 'day', 'day_of_week', 'hour_of_day', 'trip_duration',\n",
       "       'calculated_total_amount'],\n",
       "      dtype='object')"
      ]
     },
     "execution_count": 24,
     "metadata": {},
     "output_type": "execute_result"
    }
   ],
   "source": [
    "combined.select_dtypes(include = np.number).columns"
   ]
  },
  {
   "cell_type": "markdown",
   "id": "fbed03b1",
   "metadata": {},
   "source": [
    "## Univaraiate Analysis"
   ]
  },
  {
   "cell_type": "markdown",
   "id": "5ae8eaf3",
   "metadata": {},
   "source": [
    "## Numerical Variables"
   ]
  },
  {
   "cell_type": "code",
   "execution_count": 34,
   "id": "7f264c80",
   "metadata": {},
   "outputs": [
    {
     "data": {
      "image/png": "[encoded data removed]",
      "text/plain": [
       "<Figure size 1080x576 with 8 Axes>"
      ]
     },
     "metadata": {
      "needs_background": "light"
     },
     "output_type": "display_data"
    }
   ],
   "source": [
    "num_cols = ['trip_distance', 'fare_amount', 'extra', 'tip_amount', 'tolls_amount', \n",
    "            'total_amount', 'trip_duration','calculated_total_amount']\n",
    "\n",
    "nrows = 4\n",
    "ncols = 2\n",
    "repeater = 1\n",
    "\n",
    "for i in num_cols:\n",
    "    plt.subplot(nrows, ncols, repeater)\n",
    "    sns.distplot(combined.loc[:,i].dropna())\n",
    "    plt.title(i)\n",
    "    repeater += 1\n",
    "    \n",
    "plt.tight_layout()\n",
    "plt.show()"
   ]
  },
  {
   "cell_type": "code",
   "execution_count": 48,
   "id": "ac8e2fd7",
   "metadata": {},
   "outputs": [
    {
     "data": {
      "image/png": "[encoded data removed]",
      "text/plain": [
       "<Figure size 1080x576 with 8 Axes>"
      ]
     },
     "metadata": {
      "needs_background": "light"
     },
     "output_type": "display_data"
    }
   ],
   "source": [
    "nrows = 4\n",
    "ncols = 2\n",
    "repeater = 1\n",
    "\n",
    "for i in num_cols:\n",
    "    plt.subplot(nrows, ncols, repeater)\n",
    "    sns.boxplot(combined.loc[:,i].dropna())\n",
    "    plt.title(i)\n",
    "    repeater += 1\n",
    "    \n",
    "plt.tight_layout()\n",
    "plt.show()"
   ]
  },
  {
   "cell_type": "markdown",
   "id": "bda2a19d",
   "metadata": {},
   "source": [
    "## Inference:-\n",
    "\n",
    "* All the Numerical variable are positive Skewed"
   ]
  },
  {
   "cell_type": "markdown",
   "id": "80fc6b5d",
   "metadata": {},
   "source": [
    "## Categorical Variables"
   ]
  },
  {
   "cell_type": "code",
   "execution_count": 30,
   "id": "9662e2a3",
   "metadata": {},
   "outputs": [
    {
     "data": {
      "text/plain": [
       "Index(['rate_code', 'store_and_fwd_flag', 'payment_type', 'mta_tax',\n",
       "       'imp_surcharge'],\n",
       "      dtype='object')"
      ]
     },
     "execution_count": 30,
     "metadata": {},
     "output_type": "execute_result"
    }
   ],
   "source": [
    "combined.select_dtypes(include = \"object\").columns"
   ]
  },
  {
   "cell_type": "code",
   "execution_count": 31,
   "id": "5d54c00a",
   "metadata": {},
   "outputs": [
    {
     "data": {
      "text/html": [
       "<div>\n",
       "<style scoped>\n",
       "    .dataframe tbody tr th:only-of-type {\n",
       "        vertical-align: middle;\n",
       "    }\n",
       "\n",
       "    .dataframe tbody tr th {\n",
       "        vertical-align: top;\n",
       "    }\n",
       "\n",
       "    .dataframe thead th {\n",
       "        text-align: right;\n",
       "    }\n",
       "</style>\n",
       "<table border=\"1\" class=\"dataframe\">\n",
       "  <thead>\n",
       "    <tr style=\"text-align: right;\">\n",
       "      <th></th>\n",
       "      <th>trip_distance</th>\n",
       "      <th>rate_code</th>\n",
       "      <th>store_and_fwd_flag</th>\n",
       "      <th>payment_type</th>\n",
       "      <th>fare_amount</th>\n",
       "      <th>extra</th>\n",
       "      <th>mta_tax</th>\n",
       "      <th>tip_amount</th>\n",
       "      <th>tolls_amount</th>\n",
       "      <th>imp_surcharge</th>\n",
       "      <th>total_amount</th>\n",
       "      <th>pickup_location_id</th>\n",
       "      <th>dropoff_location_id</th>\n",
       "      <th>year</th>\n",
       "      <th>month</th>\n",
       "      <th>day</th>\n",
       "      <th>day_of_week</th>\n",
       "      <th>hour_of_day</th>\n",
       "      <th>trip_duration</th>\n",
       "      <th>calculated_total_amount</th>\n",
       "    </tr>\n",
       "  </thead>\n",
       "  <tbody>\n",
       "    <tr>\n",
       "      <th>0</th>\n",
       "      <td>9.01</td>\n",
       "      <td>1</td>\n",
       "      <td>N</td>\n",
       "      <td>1</td>\n",
       "      <td>26.0</td>\n",
       "      <td>0.0</td>\n",
       "      <td>0.5</td>\n",
       "      <td>8.14</td>\n",
       "      <td>5.76</td>\n",
       "      <td>0.3</td>\n",
       "      <td>40.70</td>\n",
       "      <td>262</td>\n",
       "      <td>138</td>\n",
       "      <td>2018</td>\n",
       "      <td>3</td>\n",
       "      <td>7</td>\n",
       "      <td>2</td>\n",
       "      <td>6</td>\n",
       "      <td>2131.0</td>\n",
       "      <td>24.3</td>\n",
       "    </tr>\n",
       "    <tr>\n",
       "      <th>1</th>\n",
       "      <td>0.20</td>\n",
       "      <td>1</td>\n",
       "      <td>N</td>\n",
       "      <td>1</td>\n",
       "      <td>3.0</td>\n",
       "      <td>0.0</td>\n",
       "      <td>0.5</td>\n",
       "      <td>0.75</td>\n",
       "      <td>0.00</td>\n",
       "      <td>0.3</td>\n",
       "      <td>4.55</td>\n",
       "      <td>263</td>\n",
       "      <td>236</td>\n",
       "      <td>2018</td>\n",
       "      <td>2</td>\n",
       "      <td>25</td>\n",
       "      <td>6</td>\n",
       "      <td>10</td>\n",
       "      <td>2377.0</td>\n",
       "      <td>37.4</td>\n",
       "    </tr>\n",
       "  </tbody>\n",
       "</table>\n",
       "</div>"
      ],
      "text/plain": [
       "   trip_distance rate_code store_and_fwd_flag payment_type  fare_amount  \\\n",
       "0           9.01         1                  N            1         26.0   \n",
       "1           0.20         1                  N            1          3.0   \n",
       "\n",
       "   extra mta_tax  tip_amount  tolls_amount imp_surcharge  total_amount  \\\n",
       "0    0.0     0.5        8.14          5.76           0.3         40.70   \n",
       "1    0.0     0.5        0.75          0.00           0.3          4.55   \n",
       "\n",
       "   pickup_location_id  dropoff_location_id  year  month  day  day_of_week  \\\n",
       "0                 262                  138  2018      3    7            2   \n",
       "1                 263                  236  2018      2   25            6   \n",
       "\n",
       "   hour_of_day  trip_duration  calculated_total_amount  \n",
       "0            6         2131.0                     24.3  \n",
       "1           10         2377.0                     37.4  "
      ]
     },
     "execution_count": 31,
     "metadata": {},
     "output_type": "execute_result"
    }
   ],
   "source": [
    "combined.head(2)"
   ]
  },
  {
   "cell_type": "code",
   "execution_count": 38,
   "id": "57ef6926",
   "metadata": {},
   "outputs": [
    {
     "data": {
      "image/png": "[encoded data removed]",
      "text/plain": [
       "<Figure size 1080x576 with 5 Axes>"
      ]
     },
     "metadata": {
      "needs_background": "light"
     },
     "output_type": "display_data"
    }
   ],
   "source": [
    "cat_cols = ['rate_code', 'store_and_fwd_flag', 'payment_type', 'mta_tax',\n",
    "       'imp_surcharge']\n",
    "\n",
    "nrows = 3\n",
    "ncols = 2\n",
    "iterator = 1\n",
    "\n",
    "for i in cat_cols:\n",
    "    plt.subplot(nrows, ncols, iterator)\n",
    "    sns.countplot(combined[i])\n",
    "    plt.title(i)\n",
    "    iterator+=1\n",
    "    \n",
    "plt.tight_layout()\n",
    "plt.show()"
   ]
  },
  {
   "cell_type": "markdown",
   "id": "5520c6fa",
   "metadata": {},
   "source": [
    "## Bi-Variate Analysis"
   ]
  },
  {
   "cell_type": "markdown",
   "id": "6bc3d605",
   "metadata": {},
   "source": [
    "## 1. Numerical vs Target"
   ]
  },
  {
   "cell_type": "code",
   "execution_count": 43,
   "id": "3cb8c16a",
   "metadata": {},
   "outputs": [
    {
     "data": {
      "image/png": "[encoded data removed]",
      "text/plain": [
       "<Figure size 1080x576 with 8 Axes>"
      ]
     },
     "metadata": {
      "needs_background": "light"
     },
     "output_type": "display_data"
    }
   ],
   "source": [
    "nrows = 5\n",
    "ncols = 2\n",
    "iterator = 1\n",
    "\n",
    "for i in num_cols:\n",
    "    plt.subplot(nrows, ncols, iterator)\n",
    "    sns.scatterplot(combined.loc[:,i].dropna(),combined.calculated_total_amount)\n",
    "    plt.title(i)\n",
    "    iterator+=1\n",
    "    \n",
    "plt.tight_layout()\n",
    "plt.show()"
   ]
  },
  {
   "cell_type": "markdown",
   "id": "c1e7f470",
   "metadata": {},
   "source": [
    "## Bi-Variate Analysis"
   ]
  },
  {
   "cell_type": "markdown",
   "id": "e5fbaa61",
   "metadata": {},
   "source": [
    "## 2. Categorical vs Numerical"
   ]
  },
  {
   "cell_type": "code",
   "execution_count": 47,
   "id": "923c2664",
   "metadata": {},
   "outputs": [
    {
     "data": {
      "image/png": "[encoded data removed]",
      "text/plain": [
       "<Figure size 1080x576 with 5 Axes>"
      ]
     },
     "metadata": {
      "needs_background": "light"
     },
     "output_type": "display_data"
    }
   ],
   "source": [
    "nrows = 3\n",
    "ncols = 2\n",
    "iterator = 1\n",
    "\n",
    "for i in cat_cols:\n",
    "    plt.subplot(nrows, ncols, iterator)\n",
    "    sns.boxplot(x = combined.loc[:,i],\n",
    "                y = combined.calculated_total_amount)\n",
    "    plt.title(i)\n",
    "    iterator+=1\n",
    "    \n",
    "plt.tight_layout()\n",
    "plt.show()"
   ]
  },
  {
   "cell_type": "markdown",
   "id": "75ea1ed3",
   "metadata": {},
   "source": [
    "## Missing Values"
   ]
  },
  {
   "cell_type": "code",
   "execution_count": 52,
   "id": "aefb0900",
   "metadata": {},
   "outputs": [
    {
     "data": {
      "text/plain": [
       "trip_distance                  0\n",
       "rate_code                      0\n",
       "store_and_fwd_flag             0\n",
       "payment_type                   0\n",
       "fare_amount                    0\n",
       "extra                          0\n",
       "mta_tax                        0\n",
       "tip_amount                     0\n",
       "tolls_amount                   0\n",
       "imp_surcharge                  0\n",
       "total_amount                   0\n",
       "pickup_location_id             0\n",
       "dropoff_location_id            0\n",
       "year                           0\n",
       "month                          0\n",
       "day                            0\n",
       "day_of_week                    0\n",
       "hour_of_day                    0\n",
       "trip_duration                  0\n",
       "calculated_total_amount    15000\n",
       "dtype: int64"
      ]
     },
     "execution_count": 52,
     "metadata": {},
     "output_type": "execute_result"
    }
   ],
   "source": [
    "combined.isnull().sum()"
   ]
  },
  {
   "cell_type": "markdown",
   "id": "9fac1490",
   "metadata": {},
   "source": [
    "## Bi- Varaiate Analysis"
   ]
  },
  {
   "cell_type": "code",
   "execution_count": 63,
   "id": "646135fd",
   "metadata": {},
   "outputs": [
    {
     "data": {
      "image/png": "[encoded data removed]",
      "text/plain": [
       "<Figure size 1080x576 with 2 Axes>"
      ]
     },
     "metadata": {
      "needs_background": "light"
     },
     "output_type": "display_data"
    }
   ],
   "source": [
    "sns.heatmap(combined.corr(), annot=True, cmap = \"afmhot_r\")\n",
    "plt.show()"
   ]
  },
  {
   "cell_type": "markdown",
   "id": "01b1cc38",
   "metadata": {},
   "source": [
    "## Feature Engineering"
   ]
  },
  {
   "cell_type": "code",
   "execution_count": 65,
   "id": "12d2cdbf",
   "metadata": {},
   "outputs": [
    {
     "data": {
      "text/plain": [
       "Index(['trip_distance', 'rate_code', 'store_and_fwd_flag', 'payment_type',\n",
       "       'fare_amount', 'extra', 'mta_tax', 'tip_amount', 'tolls_amount',\n",
       "       'imp_surcharge', 'total_amount', 'pickup_location_id',\n",
       "       'dropoff_location_id', 'year', 'month', 'day', 'day_of_week',\n",
       "       'hour_of_day', 'trip_duration', 'calculated_total_amount'],\n",
       "      dtype='object')"
      ]
     },
     "execution_count": 65,
     "metadata": {},
     "output_type": "execute_result"
    }
   ],
   "source": [
    "combined.columns"
   ]
  },
  {
   "cell_type": "code",
   "execution_count": 68,
   "id": "0e2cb42a",
   "metadata": {},
   "outputs": [
    {
     "data": {
      "text/plain": [
       "<AxesSubplot:xlabel='hour_of_day', ylabel='calculated_total_amount'>"
      ]
     },
     "execution_count": 68,
     "metadata": {},
     "output_type": "execute_result"
    },
    {
     "data": {
      "image/png": "[encoded data removed]",
      "text/plain": [
       "<Figure size 1080x576 with 1 Axes>"
      ]
     },
     "metadata": {
      "needs_background": "light"
     },
     "output_type": "display_data"
    }
   ],
   "source": [
    "sns.lineplot(combined[\"hour_of_day\"],combined[\"calculated_total_amount\"])"
   ]
  },
  {
   "cell_type": "markdown",
   "id": "4bb284c5",
   "metadata": {},
   "source": [
    "* Rush Hours"
   ]
  },
  {
   "cell_type": "code",
   "execution_count": 74,
   "id": "9e44f92c",
   "metadata": {},
   "outputs": [],
   "source": [
    "combined[\"Rush Hours\"] = combined.hour_of_day.apply(lambda x:1 if x in [6, 10, 15, 16, 17, 18, 19, 20] else 0)"
   ]
  },
  {
   "cell_type": "code",
   "execution_count": 78,
   "id": "adc1c0f9",
   "metadata": {},
   "outputs": [],
   "source": [
    "combined.drop(\"Rus Hours\", axis=1, inplace=True)"
   ]
  },
  {
   "cell_type": "code",
   "execution_count": 79,
   "id": "08fc4b02",
   "metadata": {},
   "outputs": [
    {
     "data": {
      "text/html": [
       "<div>\n",
       "<style scoped>\n",
       "    .dataframe tbody tr th:only-of-type {\n",
       "        vertical-align: middle;\n",
       "    }\n",
       "\n",
       "    .dataframe tbody tr th {\n",
       "        vertical-align: top;\n",
       "    }\n",
       "\n",
       "    .dataframe thead th {\n",
       "        text-align: right;\n",
       "    }\n",
       "</style>\n",
       "<table border=\"1\" class=\"dataframe\">\n",
       "  <thead>\n",
       "    <tr style=\"text-align: right;\">\n",
       "      <th></th>\n",
       "      <th>trip_distance</th>\n",
       "      <th>rate_code</th>\n",
       "      <th>store_and_fwd_flag</th>\n",
       "      <th>payment_type</th>\n",
       "      <th>fare_amount</th>\n",
       "      <th>extra</th>\n",
       "      <th>mta_tax</th>\n",
       "      <th>tip_amount</th>\n",
       "      <th>tolls_amount</th>\n",
       "      <th>imp_surcharge</th>\n",
       "      <th>total_amount</th>\n",
       "      <th>pickup_location_id</th>\n",
       "      <th>dropoff_location_id</th>\n",
       "      <th>year</th>\n",
       "      <th>month</th>\n",
       "      <th>day</th>\n",
       "      <th>day_of_week</th>\n",
       "      <th>hour_of_day</th>\n",
       "      <th>trip_duration</th>\n",
       "      <th>calculated_total_amount</th>\n",
       "      <th>Rush Hours</th>\n",
       "    </tr>\n",
       "  </thead>\n",
       "  <tbody>\n",
       "    <tr>\n",
       "      <th>0</th>\n",
       "      <td>9.01</td>\n",
       "      <td>1</td>\n",
       "      <td>N</td>\n",
       "      <td>1</td>\n",
       "      <td>26.0</td>\n",
       "      <td>0.0</td>\n",
       "      <td>0.5</td>\n",
       "      <td>8.14</td>\n",
       "      <td>5.76</td>\n",
       "      <td>0.3</td>\n",
       "      <td>40.70</td>\n",
       "      <td>262</td>\n",
       "      <td>138</td>\n",
       "      <td>2018</td>\n",
       "      <td>3</td>\n",
       "      <td>7</td>\n",
       "      <td>2</td>\n",
       "      <td>6</td>\n",
       "      <td>2131.0</td>\n",
       "      <td>24.30</td>\n",
       "      <td>1</td>\n",
       "    </tr>\n",
       "    <tr>\n",
       "      <th>1</th>\n",
       "      <td>0.20</td>\n",
       "      <td>1</td>\n",
       "      <td>N</td>\n",
       "      <td>1</td>\n",
       "      <td>3.0</td>\n",
       "      <td>0.0</td>\n",
       "      <td>0.5</td>\n",
       "      <td>0.75</td>\n",
       "      <td>0.00</td>\n",
       "      <td>0.3</td>\n",
       "      <td>4.55</td>\n",
       "      <td>263</td>\n",
       "      <td>236</td>\n",
       "      <td>2018</td>\n",
       "      <td>2</td>\n",
       "      <td>25</td>\n",
       "      <td>6</td>\n",
       "      <td>10</td>\n",
       "      <td>2377.0</td>\n",
       "      <td>37.40</td>\n",
       "      <td>1</td>\n",
       "    </tr>\n",
       "    <tr>\n",
       "      <th>2</th>\n",
       "      <td>9.65</td>\n",
       "      <td>1</td>\n",
       "      <td>N</td>\n",
       "      <td>1</td>\n",
       "      <td>41.5</td>\n",
       "      <td>0.0</td>\n",
       "      <td>0.5</td>\n",
       "      <td>9.61</td>\n",
       "      <td>5.76</td>\n",
       "      <td>0.3</td>\n",
       "      <td>57.67</td>\n",
       "      <td>138</td>\n",
       "      <td>230</td>\n",
       "      <td>2018</td>\n",
       "      <td>1</td>\n",
       "      <td>29</td>\n",
       "      <td>0</td>\n",
       "      <td>8</td>\n",
       "      <td>1286.0</td>\n",
       "      <td>30.36</td>\n",
       "      <td>0</td>\n",
       "    </tr>\n",
       "    <tr>\n",
       "      <th>3</th>\n",
       "      <td>9.50</td>\n",
       "      <td>1</td>\n",
       "      <td>N</td>\n",
       "      <td>1</td>\n",
       "      <td>30.0</td>\n",
       "      <td>0.5</td>\n",
       "      <td>0.5</td>\n",
       "      <td>9.25</td>\n",
       "      <td>5.76</td>\n",
       "      <td>0.3</td>\n",
       "      <td>46.31</td>\n",
       "      <td>186</td>\n",
       "      <td>138</td>\n",
       "      <td>2018</td>\n",
       "      <td>9</td>\n",
       "      <td>25</td>\n",
       "      <td>1</td>\n",
       "      <td>20</td>\n",
       "      <td>2586.0</td>\n",
       "      <td>4.30</td>\n",
       "      <td>1</td>\n",
       "    </tr>\n",
       "    <tr>\n",
       "      <th>4</th>\n",
       "      <td>5.80</td>\n",
       "      <td>1</td>\n",
       "      <td>N</td>\n",
       "      <td>1</td>\n",
       "      <td>21.5</td>\n",
       "      <td>0.5</td>\n",
       "      <td>0.5</td>\n",
       "      <td>4.56</td>\n",
       "      <td>0.00</td>\n",
       "      <td>0.3</td>\n",
       "      <td>27.36</td>\n",
       "      <td>162</td>\n",
       "      <td>87</td>\n",
       "      <td>2018</td>\n",
       "      <td>8</td>\n",
       "      <td>20</td>\n",
       "      <td>0</td>\n",
       "      <td>21</td>\n",
       "      <td>1575.0</td>\n",
       "      <td>23.80</td>\n",
       "      <td>0</td>\n",
       "    </tr>\n",
       "  </tbody>\n",
       "</table>\n",
       "</div>"
      ],
      "text/plain": [
       "   trip_distance rate_code store_and_fwd_flag payment_type  fare_amount  \\\n",
       "0           9.01         1                  N            1         26.0   \n",
       "1           0.20         1                  N            1          3.0   \n",
       "2           9.65         1                  N            1         41.5   \n",
       "3           9.50         1                  N            1         30.0   \n",
       "4           5.80         1                  N            1         21.5   \n",
       "\n",
       "   extra mta_tax  tip_amount  tolls_amount imp_surcharge  total_amount  \\\n",
       "0    0.0     0.5        8.14          5.76           0.3         40.70   \n",
       "1    0.0     0.5        0.75          0.00           0.3          4.55   \n",
       "2    0.0     0.5        9.61          5.76           0.3         57.67   \n",
       "3    0.5     0.5        9.25          5.76           0.3         46.31   \n",
       "4    0.5     0.5        4.56          0.00           0.3         27.36   \n",
       "\n",
       "   pickup_location_id  dropoff_location_id  year  month  day  day_of_week  \\\n",
       "0                 262                  138  2018      3    7            2   \n",
       "1                 263                  236  2018      2   25            6   \n",
       "2                 138                  230  2018      1   29            0   \n",
       "3                 186                  138  2018      9   25            1   \n",
       "4                 162                   87  2018      8   20            0   \n",
       "\n",
       "   hour_of_day  trip_duration  calculated_total_amount  Rush Hours  \n",
       "0            6         2131.0                    24.30           1  \n",
       "1           10         2377.0                    37.40           1  \n",
       "2            8         1286.0                    30.36           0  \n",
       "3           20         2586.0                     4.30           1  \n",
       "4           21         1575.0                    23.80           0  "
      ]
     },
     "execution_count": 79,
     "metadata": {},
     "output_type": "execute_result"
    }
   ],
   "source": [
    "combined.head()"
   ]
  },
  {
   "cell_type": "markdown",
   "id": "2684bdf5",
   "metadata": {},
   "source": [
    "**Rush Hour vs Target**"
   ]
  },
  {
   "cell_type": "code",
   "execution_count": 80,
   "id": "b87f75b0",
   "metadata": {
    "scrolled": false
   },
   "outputs": [
    {
     "data": {
      "image/png": "[encoded data removed]",
      "text/plain": [
       "<Figure size 1080x576 with 1 Axes>"
      ]
     },
     "metadata": {
      "needs_background": "light"
     },
     "output_type": "display_data"
    }
   ],
   "source": [
    "sns.boxplot(x = \"Rush Hours\", y = \"calculated_total_amount\", data = combined)\n",
    "plt.show()"
   ]
  },
  {
   "cell_type": "markdown",
   "id": "36f8e9fe",
   "metadata": {},
   "source": [
    "**Rush month vs Target**"
   ]
  },
  {
   "cell_type": "code",
   "execution_count": 82,
   "id": "f59fdbd7",
   "metadata": {},
   "outputs": [
    {
     "data": {
      "text/plain": [
       "<AxesSubplot:xlabel='month', ylabel='calculated_total_amount'>"
      ]
     },
     "execution_count": 82,
     "metadata": {},
     "output_type": "execute_result"
    },
    {
     "data": {
      "image/png": "[encoded data removed]",
      "text/plain": [
       "<Figure size 1080x576 with 1 Axes>"
      ]
     },
     "metadata": {
      "needs_background": "light"
     },
     "output_type": "display_data"
    }
   ],
   "source": [
    "sns.lineplot(combined[\"month\"],combined[\"calculated_total_amount\"])"
   ]
  },
  {
   "cell_type": "code",
   "execution_count": 83,
   "id": "619b7e93",
   "metadata": {},
   "outputs": [
    {
     "data": {
      "image/png": "[encoded data removed]",
      "text/plain": [
       "<Figure size 1080x576 with 1 Axes>"
      ]
     },
     "metadata": {
      "needs_background": "light"
     },
     "output_type": "display_data"
    }
   ],
   "source": [
    "sns.boxplot(x = \"month\", y = \"calculated_total_amount\", data = combined)\n",
    "plt.show()"
   ]
  },
  {
   "cell_type": "code",
   "execution_count": 88,
   "id": "7106991d",
   "metadata": {},
   "outputs": [],
   "source": [
    "from sklearn.cluster import KMeans"
   ]
  },
  {
   "cell_type": "code",
   "execution_count": 92,
   "id": "375815a8",
   "metadata": {},
   "outputs": [
    {
     "data": {
      "image/png": "[encoded data removed]",
      "text/plain": [
       "<Figure size 576x396 with 2 Axes>"
      ]
     },
     "metadata": {},
     "output_type": "display_data"
    },
    {
     "data": {
      "text/plain": [
       "<AxesSubplot:title={'center':'Distortion Score Elbow for KMeans Clustering'}, xlabel='k', ylabel='distortion score'>"
      ]
     },
     "execution_count": 92,
     "metadata": {},
     "output_type": "execute_result"
    }
   ],
   "source": [
    "from yellowbrick.cluster import KElbowVisualizer\n",
    "from sklearn.cluster import KMeans\n",
    "\n",
    "kmeans = KMeans()\n",
    "\n",
    "visualizer = KElbowVisualizer(estimator = kmeans, random_state=0)\n",
    "\n",
    "data = combined.loc[:, [\"day_of_week\", \"hour_of_day\", \"month\"]]\n",
    "\n",
    "visualizer.fit(data)\n",
    "visualizer.show()"
   ]
  },
  {
   "cell_type": "code",
   "execution_count": 100,
   "id": "ca6ff86c",
   "metadata": {},
   "outputs": [],
   "source": [
    "#n_cluster = 5\n",
    "\n",
    "data = combined.loc[:, [\"day_of_week\",\"hour_of_day\",\"month\"]]\n",
    "\n",
    "kmeans = KMeans(n_clusters = 5, random_state=0)\n",
    "\n",
    "k = kmeans.fit(data)\n",
    "\n",
    "combined[\"clusters\"] = k.labels_"
   ]
  },
  {
   "cell_type": "code",
   "execution_count": 104,
   "id": "5bbfe0f1",
   "metadata": {},
   "outputs": [
    {
     "data": {
      "text/html": [
       "<div>\n",
       "<style scoped>\n",
       "    .dataframe tbody tr th:only-of-type {\n",
       "        vertical-align: middle;\n",
       "    }\n",
       "\n",
       "    .dataframe tbody tr th {\n",
       "        vertical-align: top;\n",
       "    }\n",
       "\n",
       "    .dataframe thead th {\n",
       "        text-align: right;\n",
       "    }\n",
       "</style>\n",
       "<table border=\"1\" class=\"dataframe\">\n",
       "  <thead>\n",
       "    <tr style=\"text-align: right;\">\n",
       "      <th></th>\n",
       "      <th>trip_distance</th>\n",
       "      <th>rate_code</th>\n",
       "      <th>store_and_fwd_flag</th>\n",
       "      <th>payment_type</th>\n",
       "      <th>fare_amount</th>\n",
       "      <th>extra</th>\n",
       "      <th>mta_tax</th>\n",
       "      <th>tip_amount</th>\n",
       "      <th>tolls_amount</th>\n",
       "      <th>imp_surcharge</th>\n",
       "      <th>total_amount</th>\n",
       "      <th>pickup_location_id</th>\n",
       "      <th>dropoff_location_id</th>\n",
       "      <th>year</th>\n",
       "      <th>month</th>\n",
       "      <th>day</th>\n",
       "      <th>day_of_week</th>\n",
       "      <th>hour_of_day</th>\n",
       "      <th>trip_duration</th>\n",
       "      <th>calculated_total_amount</th>\n",
       "      <th>Rush Hours</th>\n",
       "      <th>clusters</th>\n",
       "    </tr>\n",
       "  </thead>\n",
       "  <tbody>\n",
       "    <tr>\n",
       "      <th>0</th>\n",
       "      <td>9.01</td>\n",
       "      <td>1</td>\n",
       "      <td>N</td>\n",
       "      <td>1</td>\n",
       "      <td>26.0</td>\n",
       "      <td>0.0</td>\n",
       "      <td>0.5</td>\n",
       "      <td>8.14</td>\n",
       "      <td>5.76</td>\n",
       "      <td>0.3</td>\n",
       "      <td>40.70</td>\n",
       "      <td>262</td>\n",
       "      <td>138</td>\n",
       "      <td>2018</td>\n",
       "      <td>3</td>\n",
       "      <td>7</td>\n",
       "      <td>2</td>\n",
       "      <td>6</td>\n",
       "      <td>2131.0</td>\n",
       "      <td>24.30</td>\n",
       "      <td>1</td>\n",
       "      <td>4</td>\n",
       "    </tr>\n",
       "    <tr>\n",
       "      <th>1</th>\n",
       "      <td>0.20</td>\n",
       "      <td>1</td>\n",
       "      <td>N</td>\n",
       "      <td>1</td>\n",
       "      <td>3.0</td>\n",
       "      <td>0.0</td>\n",
       "      <td>0.5</td>\n",
       "      <td>0.75</td>\n",
       "      <td>0.00</td>\n",
       "      <td>0.3</td>\n",
       "      <td>4.55</td>\n",
       "      <td>263</td>\n",
       "      <td>236</td>\n",
       "      <td>2018</td>\n",
       "      <td>2</td>\n",
       "      <td>25</td>\n",
       "      <td>6</td>\n",
       "      <td>10</td>\n",
       "      <td>2377.0</td>\n",
       "      <td>37.40</td>\n",
       "      <td>1</td>\n",
       "      <td>4</td>\n",
       "    </tr>\n",
       "    <tr>\n",
       "      <th>2</th>\n",
       "      <td>9.65</td>\n",
       "      <td>1</td>\n",
       "      <td>N</td>\n",
       "      <td>1</td>\n",
       "      <td>41.5</td>\n",
       "      <td>0.0</td>\n",
       "      <td>0.5</td>\n",
       "      <td>9.61</td>\n",
       "      <td>5.76</td>\n",
       "      <td>0.3</td>\n",
       "      <td>57.67</td>\n",
       "      <td>138</td>\n",
       "      <td>230</td>\n",
       "      <td>2018</td>\n",
       "      <td>1</td>\n",
       "      <td>29</td>\n",
       "      <td>0</td>\n",
       "      <td>8</td>\n",
       "      <td>1286.0</td>\n",
       "      <td>30.36</td>\n",
       "      <td>0</td>\n",
       "      <td>4</td>\n",
       "    </tr>\n",
       "    <tr>\n",
       "      <th>3</th>\n",
       "      <td>9.50</td>\n",
       "      <td>1</td>\n",
       "      <td>N</td>\n",
       "      <td>1</td>\n",
       "      <td>30.0</td>\n",
       "      <td>0.5</td>\n",
       "      <td>0.5</td>\n",
       "      <td>9.25</td>\n",
       "      <td>5.76</td>\n",
       "      <td>0.3</td>\n",
       "      <td>46.31</td>\n",
       "      <td>186</td>\n",
       "      <td>138</td>\n",
       "      <td>2018</td>\n",
       "      <td>9</td>\n",
       "      <td>25</td>\n",
       "      <td>1</td>\n",
       "      <td>20</td>\n",
       "      <td>2586.0</td>\n",
       "      <td>4.30</td>\n",
       "      <td>1</td>\n",
       "      <td>3</td>\n",
       "    </tr>\n",
       "    <tr>\n",
       "      <th>4</th>\n",
       "      <td>5.80</td>\n",
       "      <td>1</td>\n",
       "      <td>N</td>\n",
       "      <td>1</td>\n",
       "      <td>21.5</td>\n",
       "      <td>0.5</td>\n",
       "      <td>0.5</td>\n",
       "      <td>4.56</td>\n",
       "      <td>0.00</td>\n",
       "      <td>0.3</td>\n",
       "      <td>27.36</td>\n",
       "      <td>162</td>\n",
       "      <td>87</td>\n",
       "      <td>2018</td>\n",
       "      <td>8</td>\n",
       "      <td>20</td>\n",
       "      <td>0</td>\n",
       "      <td>21</td>\n",
       "      <td>1575.0</td>\n",
       "      <td>23.80</td>\n",
       "      <td>0</td>\n",
       "      <td>3</td>\n",
       "    </tr>\n",
       "  </tbody>\n",
       "</table>\n",
       "</div>"
      ],
      "text/plain": [
       "   trip_distance rate_code store_and_fwd_flag payment_type  fare_amount  \\\n",
       "0           9.01         1                  N            1         26.0   \n",
       "1           0.20         1                  N            1          3.0   \n",
       "2           9.65         1                  N            1         41.5   \n",
       "3           9.50         1                  N            1         30.0   \n",
       "4           5.80         1                  N            1         21.5   \n",
       "\n",
       "   extra mta_tax  tip_amount  tolls_amount imp_surcharge  total_amount  \\\n",
       "0    0.0     0.5        8.14          5.76           0.3         40.70   \n",
       "1    0.0     0.5        0.75          0.00           0.3          4.55   \n",
       "2    0.0     0.5        9.61          5.76           0.3         57.67   \n",
       "3    0.5     0.5        9.25          5.76           0.3         46.31   \n",
       "4    0.5     0.5        4.56          0.00           0.3         27.36   \n",
       "\n",
       "   pickup_location_id  dropoff_location_id  year  month  day  day_of_week  \\\n",
       "0                 262                  138  2018      3    7            2   \n",
       "1                 263                  236  2018      2   25            6   \n",
       "2                 138                  230  2018      1   29            0   \n",
       "3                 186                  138  2018      9   25            1   \n",
       "4                 162                   87  2018      8   20            0   \n",
       "\n",
       "   hour_of_day  trip_duration  calculated_total_amount  Rush Hours  clusters  \n",
       "0            6         2131.0                    24.30           1         4  \n",
       "1           10         2377.0                    37.40           1         4  \n",
       "2            8         1286.0                    30.36           0         4  \n",
       "3           20         2586.0                     4.30           1         3  \n",
       "4           21         1575.0                    23.80           0         3  "
      ]
     },
     "execution_count": 104,
     "metadata": {},
     "output_type": "execute_result"
    }
   ],
   "source": [
    "combined.head()"
   ]
  },
  {
   "cell_type": "code",
   "execution_count": 105,
   "id": "e02e8244",
   "metadata": {},
   "outputs": [
    {
     "data": {
      "text/plain": [
       "Index(['trip_distance', 'rate_code', 'store_and_fwd_flag', 'payment_type',\n",
       "       'fare_amount', 'extra', 'mta_tax', 'tip_amount', 'tolls_amount',\n",
       "       'imp_surcharge', 'total_amount', 'pickup_location_id',\n",
       "       'dropoff_location_id', 'year', 'month', 'day', 'day_of_week',\n",
       "       'hour_of_day', 'trip_duration', 'calculated_total_amount', 'Rush Hours',\n",
       "       'clusters'],\n",
       "      dtype='object')"
      ]
     },
     "execution_count": 105,
     "metadata": {},
     "output_type": "execute_result"
    }
   ],
   "source": [
    "combined.columns"
   ]
  },
  {
   "cell_type": "markdown",
   "id": "85112cef",
   "metadata": {},
   "source": [
    "**Split the data in Train and Test**"
   ]
  },
  {
   "cell_type": "code",
   "execution_count": 108,
   "id": "e9ab69e1",
   "metadata": {},
   "outputs": [],
   "source": [
    "newtrain = combined.loc[0:train.shape[0]-1, :]\n",
    "newtest = combined.loc[train.shape[0]:, :]"
   ]
  },
  {
   "cell_type": "code",
   "execution_count": 109,
   "id": "cd3dc433",
   "metadata": {},
   "outputs": [
    {
     "data": {
      "text/plain": [
       "((35000, 22), (15000, 22))"
      ]
     },
     "execution_count": 109,
     "metadata": {},
     "output_type": "execute_result"
    }
   ],
   "source": [
    "newtrain.shape, newtest.shape"
   ]
  },
  {
   "cell_type": "markdown",
   "id": "f6e29770",
   "metadata": {},
   "source": [
    "**Drop the Target from Newtest**"
   ]
  },
  {
   "cell_type": "code",
   "execution_count": 111,
   "id": "3e764a5b",
   "metadata": {},
   "outputs": [],
   "source": [
    "newtest.drop(\"calculated_total_amount\", axis = 1, inplace = True)"
   ]
  },
  {
   "cell_type": "markdown",
   "id": "9c99e369",
   "metadata": {},
   "source": [
    "## Outlier Removal"
   ]
  },
  {
   "cell_type": "code",
   "execution_count": 114,
   "id": "1401a008",
   "metadata": {},
   "outputs": [
    {
     "data": {
      "text/html": [
       "<div>\n",
       "<style scoped>\n",
       "    .dataframe tbody tr th:only-of-type {\n",
       "        vertical-align: middle;\n",
       "    }\n",
       "\n",
       "    .dataframe tbody tr th {\n",
       "        vertical-align: top;\n",
       "    }\n",
       "\n",
       "    .dataframe thead th {\n",
       "        text-align: right;\n",
       "    }\n",
       "</style>\n",
       "<table border=\"1\" class=\"dataframe\">\n",
       "  <thead>\n",
       "    <tr style=\"text-align: right;\">\n",
       "      <th></th>\n",
       "      <th>trip_distance</th>\n",
       "      <th>rate_code</th>\n",
       "      <th>store_and_fwd_flag</th>\n",
       "      <th>payment_type</th>\n",
       "      <th>fare_amount</th>\n",
       "      <th>extra</th>\n",
       "      <th>mta_tax</th>\n",
       "      <th>tip_amount</th>\n",
       "      <th>tolls_amount</th>\n",
       "      <th>imp_surcharge</th>\n",
       "      <th>total_amount</th>\n",
       "      <th>pickup_location_id</th>\n",
       "      <th>dropoff_location_id</th>\n",
       "      <th>year</th>\n",
       "      <th>month</th>\n",
       "      <th>day</th>\n",
       "      <th>day_of_week</th>\n",
       "      <th>hour_of_day</th>\n",
       "      <th>trip_duration</th>\n",
       "      <th>calculated_total_amount</th>\n",
       "      <th>Rush Hours</th>\n",
       "      <th>clusters</th>\n",
       "    </tr>\n",
       "  </thead>\n",
       "  <tbody>\n",
       "    <tr>\n",
       "      <th>0</th>\n",
       "      <td>9.01</td>\n",
       "      <td>1</td>\n",
       "      <td>N</td>\n",
       "      <td>1</td>\n",
       "      <td>26.0</td>\n",
       "      <td>0.0</td>\n",
       "      <td>0.5</td>\n",
       "      <td>8.14</td>\n",
       "      <td>5.76</td>\n",
       "      <td>0.3</td>\n",
       "      <td>40.70</td>\n",
       "      <td>262</td>\n",
       "      <td>138</td>\n",
       "      <td>2018</td>\n",
       "      <td>3</td>\n",
       "      <td>7</td>\n",
       "      <td>2</td>\n",
       "      <td>6</td>\n",
       "      <td>2131.0</td>\n",
       "      <td>24.30</td>\n",
       "      <td>1</td>\n",
       "      <td>4</td>\n",
       "    </tr>\n",
       "    <tr>\n",
       "      <th>2</th>\n",
       "      <td>9.65</td>\n",
       "      <td>1</td>\n",
       "      <td>N</td>\n",
       "      <td>1</td>\n",
       "      <td>41.5</td>\n",
       "      <td>0.0</td>\n",
       "      <td>0.5</td>\n",
       "      <td>9.61</td>\n",
       "      <td>5.76</td>\n",
       "      <td>0.3</td>\n",
       "      <td>57.67</td>\n",
       "      <td>138</td>\n",
       "      <td>230</td>\n",
       "      <td>2018</td>\n",
       "      <td>1</td>\n",
       "      <td>29</td>\n",
       "      <td>0</td>\n",
       "      <td>8</td>\n",
       "      <td>1286.0</td>\n",
       "      <td>30.36</td>\n",
       "      <td>0</td>\n",
       "      <td>4</td>\n",
       "    </tr>\n",
       "    <tr>\n",
       "      <th>3</th>\n",
       "      <td>9.50</td>\n",
       "      <td>1</td>\n",
       "      <td>N</td>\n",
       "      <td>1</td>\n",
       "      <td>30.0</td>\n",
       "      <td>0.5</td>\n",
       "      <td>0.5</td>\n",
       "      <td>9.25</td>\n",
       "      <td>5.76</td>\n",
       "      <td>0.3</td>\n",
       "      <td>46.31</td>\n",
       "      <td>186</td>\n",
       "      <td>138</td>\n",
       "      <td>2018</td>\n",
       "      <td>9</td>\n",
       "      <td>25</td>\n",
       "      <td>1</td>\n",
       "      <td>20</td>\n",
       "      <td>2586.0</td>\n",
       "      <td>4.30</td>\n",
       "      <td>1</td>\n",
       "      <td>3</td>\n",
       "    </tr>\n",
       "    <tr>\n",
       "      <th>4</th>\n",
       "      <td>5.80</td>\n",
       "      <td>1</td>\n",
       "      <td>N</td>\n",
       "      <td>1</td>\n",
       "      <td>21.5</td>\n",
       "      <td>0.5</td>\n",
       "      <td>0.5</td>\n",
       "      <td>4.56</td>\n",
       "      <td>0.00</td>\n",
       "      <td>0.3</td>\n",
       "      <td>27.36</td>\n",
       "      <td>162</td>\n",
       "      <td>87</td>\n",
       "      <td>2018</td>\n",
       "      <td>8</td>\n",
       "      <td>20</td>\n",
       "      <td>0</td>\n",
       "      <td>21</td>\n",
       "      <td>1575.0</td>\n",
       "      <td>23.80</td>\n",
       "      <td>0</td>\n",
       "      <td>3</td>\n",
       "    </tr>\n",
       "    <tr>\n",
       "      <th>5</th>\n",
       "      <td>12.65</td>\n",
       "      <td>1</td>\n",
       "      <td>N</td>\n",
       "      <td>1</td>\n",
       "      <td>41.5</td>\n",
       "      <td>0.0</td>\n",
       "      <td>0.5</td>\n",
       "      <td>0.02</td>\n",
       "      <td>5.76</td>\n",
       "      <td>0.3</td>\n",
       "      <td>48.08</td>\n",
       "      <td>138</td>\n",
       "      <td>100</td>\n",
       "      <td>2018</td>\n",
       "      <td>1</td>\n",
       "      <td>8</td>\n",
       "      <td>0</td>\n",
       "      <td>7</td>\n",
       "      <td>2029.0</td>\n",
       "      <td>30.95</td>\n",
       "      <td>0</td>\n",
       "      <td>4</td>\n",
       "    </tr>\n",
       "    <tr>\n",
       "      <th>...</th>\n",
       "      <td>...</td>\n",
       "      <td>...</td>\n",
       "      <td>...</td>\n",
       "      <td>...</td>\n",
       "      <td>...</td>\n",
       "      <td>...</td>\n",
       "      <td>...</td>\n",
       "      <td>...</td>\n",
       "      <td>...</td>\n",
       "      <td>...</td>\n",
       "      <td>...</td>\n",
       "      <td>...</td>\n",
       "      <td>...</td>\n",
       "      <td>...</td>\n",
       "      <td>...</td>\n",
       "      <td>...</td>\n",
       "      <td>...</td>\n",
       "      <td>...</td>\n",
       "      <td>...</td>\n",
       "      <td>...</td>\n",
       "      <td>...</td>\n",
       "      <td>...</td>\n",
       "    </tr>\n",
       "    <tr>\n",
       "      <th>34990</th>\n",
       "      <td>8.20</td>\n",
       "      <td>1</td>\n",
       "      <td>N</td>\n",
       "      <td>1</td>\n",
       "      <td>25.0</td>\n",
       "      <td>0.5</td>\n",
       "      <td>0.5</td>\n",
       "      <td>5.25</td>\n",
       "      <td>0.00</td>\n",
       "      <td>0.3</td>\n",
       "      <td>31.55</td>\n",
       "      <td>138</td>\n",
       "      <td>255</td>\n",
       "      <td>2018</td>\n",
       "      <td>3</td>\n",
       "      <td>25</td>\n",
       "      <td>6</td>\n",
       "      <td>20</td>\n",
       "      <td>1350.0</td>\n",
       "      <td>42.36</td>\n",
       "      <td>1</td>\n",
       "      <td>0</td>\n",
       "    </tr>\n",
       "    <tr>\n",
       "      <th>34991</th>\n",
       "      <td>7.40</td>\n",
       "      <td>1</td>\n",
       "      <td>Y</td>\n",
       "      <td>2</td>\n",
       "      <td>27.5</td>\n",
       "      <td>0.0</td>\n",
       "      <td>0.5</td>\n",
       "      <td>0.00</td>\n",
       "      <td>0.00</td>\n",
       "      <td>0.3</td>\n",
       "      <td>28.30</td>\n",
       "      <td>226</td>\n",
       "      <td>232</td>\n",
       "      <td>2018</td>\n",
       "      <td>10</td>\n",
       "      <td>19</td>\n",
       "      <td>4</td>\n",
       "      <td>7</td>\n",
       "      <td>2607.0</td>\n",
       "      <td>29.75</td>\n",
       "      <td>0</td>\n",
       "      <td>1</td>\n",
       "    </tr>\n",
       "    <tr>\n",
       "      <th>34993</th>\n",
       "      <td>4.40</td>\n",
       "      <td>1</td>\n",
       "      <td>N</td>\n",
       "      <td>1</td>\n",
       "      <td>23.5</td>\n",
       "      <td>0.0</td>\n",
       "      <td>0.5</td>\n",
       "      <td>4.85</td>\n",
       "      <td>0.00</td>\n",
       "      <td>0.3</td>\n",
       "      <td>29.15</td>\n",
       "      <td>162</td>\n",
       "      <td>41</td>\n",
       "      <td>2018</td>\n",
       "      <td>9</td>\n",
       "      <td>24</td>\n",
       "      <td>0</td>\n",
       "      <td>15</td>\n",
       "      <td>1710.0</td>\n",
       "      <td>43.87</td>\n",
       "      <td>1</td>\n",
       "      <td>1</td>\n",
       "    </tr>\n",
       "    <tr>\n",
       "      <th>34994</th>\n",
       "      <td>4.91</td>\n",
       "      <td>1</td>\n",
       "      <td>N</td>\n",
       "      <td>1</td>\n",
       "      <td>22.5</td>\n",
       "      <td>1.0</td>\n",
       "      <td>0.5</td>\n",
       "      <td>6.08</td>\n",
       "      <td>0.00</td>\n",
       "      <td>0.3</td>\n",
       "      <td>30.38</td>\n",
       "      <td>163</td>\n",
       "      <td>13</td>\n",
       "      <td>2018</td>\n",
       "      <td>6</td>\n",
       "      <td>26</td>\n",
       "      <td>1</td>\n",
       "      <td>16</td>\n",
       "      <td>1869.0</td>\n",
       "      <td>56.00</td>\n",
       "      <td>1</td>\n",
       "      <td>0</td>\n",
       "    </tr>\n",
       "    <tr>\n",
       "      <th>34997</th>\n",
       "      <td>6.78</td>\n",
       "      <td>1</td>\n",
       "      <td>N</td>\n",
       "      <td>1</td>\n",
       "      <td>23.0</td>\n",
       "      <td>0.0</td>\n",
       "      <td>0.5</td>\n",
       "      <td>5.95</td>\n",
       "      <td>0.00</td>\n",
       "      <td>0.3</td>\n",
       "      <td>29.75</td>\n",
       "      <td>140</td>\n",
       "      <td>231</td>\n",
       "      <td>2018</td>\n",
       "      <td>3</td>\n",
       "      <td>7</td>\n",
       "      <td>2</td>\n",
       "      <td>8</td>\n",
       "      <td>2459.0</td>\n",
       "      <td>42.67</td>\n",
       "      <td>0</td>\n",
       "      <td>4</td>\n",
       "    </tr>\n",
       "  </tbody>\n",
       "</table>\n",
       "<p>26105 rows × 22 columns</p>\n",
       "</div>"
      ],
      "text/plain": [
       "       trip_distance rate_code store_and_fwd_flag payment_type  fare_amount  \\\n",
       "0               9.01         1                  N            1         26.0   \n",
       "2               9.65         1                  N            1         41.5   \n",
       "3               9.50         1                  N            1         30.0   \n",
       "4               5.80         1                  N            1         21.5   \n",
       "5              12.65         1                  N            1         41.5   \n",
       "...              ...       ...                ...          ...          ...   \n",
       "34990           8.20         1                  N            1         25.0   \n",
       "34991           7.40         1                  Y            2         27.5   \n",
       "34993           4.40         1                  N            1         23.5   \n",
       "34994           4.91         1                  N            1         22.5   \n",
       "34997           6.78         1                  N            1         23.0   \n",
       "\n",
       "       extra mta_tax  tip_amount  tolls_amount imp_surcharge  total_amount  \\\n",
       "0        0.0     0.5        8.14          5.76           0.3         40.70   \n",
       "2        0.0     0.5        9.61          5.76           0.3         57.67   \n",
       "3        0.5     0.5        9.25          5.76           0.3         46.31   \n",
       "4        0.5     0.5        4.56          0.00           0.3         27.36   \n",
       "5        0.0     0.5        0.02          5.76           0.3         48.08   \n",
       "...      ...     ...         ...           ...           ...           ...   \n",
       "34990    0.5     0.5        5.25          0.00           0.3         31.55   \n",
       "34991    0.0     0.5        0.00          0.00           0.3         28.30   \n",
       "34993    0.0     0.5        4.85          0.00           0.3         29.15   \n",
       "34994    1.0     0.5        6.08          0.00           0.3         30.38   \n",
       "34997    0.0     0.5        5.95          0.00           0.3         29.75   \n",
       "\n",
       "       pickup_location_id  dropoff_location_id  year  month  day  day_of_week  \\\n",
       "0                     262                  138  2018      3    7            2   \n",
       "2                     138                  230  2018      1   29            0   \n",
       "3                     186                  138  2018      9   25            1   \n",
       "4                     162                   87  2018      8   20            0   \n",
       "5                     138                  100  2018      1    8            0   \n",
       "...                   ...                  ...   ...    ...  ...          ...   \n",
       "34990                 138                  255  2018      3   25            6   \n",
       "34991                 226                  232  2018     10   19            4   \n",
       "34993                 162                   41  2018      9   24            0   \n",
       "34994                 163                   13  2018      6   26            1   \n",
       "34997                 140                  231  2018      3    7            2   \n",
       "\n",
       "       hour_of_day  trip_duration  calculated_total_amount  Rush Hours  \\\n",
       "0                6         2131.0                    24.30           1   \n",
       "2                8         1286.0                    30.36           0   \n",
       "3               20         2586.0                     4.30           1   \n",
       "4               21         1575.0                    23.80           0   \n",
       "5                7         2029.0                    30.95           0   \n",
       "...            ...            ...                      ...         ...   \n",
       "34990           20         1350.0                    42.36           1   \n",
       "34991            7         2607.0                    29.75           0   \n",
       "34993           15         1710.0                    43.87           1   \n",
       "34994           16         1869.0                    56.00           1   \n",
       "34997            8         2459.0                    42.67           0   \n",
       "\n",
       "       clusters  \n",
       "0             4  \n",
       "2             4  \n",
       "3             3  \n",
       "4             3  \n",
       "5             4  \n",
       "...         ...  \n",
       "34990         0  \n",
       "34991         1  \n",
       "34993         1  \n",
       "34994         0  \n",
       "34997         4  \n",
       "\n",
       "[26105 rows x 22 columns]"
      ]
     },
     "execution_count": 114,
     "metadata": {},
     "output_type": "execute_result"
    }
   ],
   "source": [
    "q1 = newtrain.quantile(0.25)\n",
    "q2 = newtrain.quantile(0.50)\n",
    "q3 = newtrain.quantile(0.75)\n",
    "\n",
    "IQR = q3 - q1\n",
    "\n",
    "Upper_limit = q3+1.5*IQR\n",
    "Lower_limit = q1-1.5*IQR\n",
    "\n",
    "wt_outliers = newtrain.loc[~((newtrain<Lower_limit) | (newtrain>Upper_Limit)).any(axis=1)]\n",
    "wt_outliers"
   ]
  },
  {
   "cell_type": "code",
   "execution_count": 120,
   "id": "84d23ca0",
   "metadata": {},
   "outputs": [
    {
     "data": {
      "image/png": "[encoded data removed]",
      "text/plain": [
       "<Figure size 1080x576 with 1 Axes>"
      ]
     },
     "metadata": {},
     "output_type": "display_data"
    }
   ],
   "source": [
    "wt_outliers.plot(kind = \"box\")\n",
    "plt.show()"
   ]
  },
  {
   "cell_type": "markdown",
   "id": "d5ed339c",
   "metadata": {},
   "source": [
    "## Min Max Scaler"
   ]
  },
  {
   "cell_type": "markdown",
   "id": "e7017404",
   "metadata": {},
   "source": [
    "**Drop the Insignificant Variables**"
   ]
  },
  {
   "cell_type": "code",
   "execution_count": 125,
   "id": "9d1e9ef0",
   "metadata": {},
   "outputs": [],
   "source": [
    "finaltrain = wt_outliers.drop([\"calculated_total_amount\", \"year\",\"pickup_location_id\",\"dropoff_location_id\"], axis=1)\n",
    "\n",
    "finaltest = newtest.drop([\"year\",\"pickup_location_id\",\"dropoff_location_id\"], axis=1)"
   ]
  },
  {
   "cell_type": "code",
   "execution_count": 127,
   "id": "e53b6222",
   "metadata": {},
   "outputs": [
    {
     "name": "stdout",
     "output_type": "stream",
     "text": [
      "<class 'pandas.core.frame.DataFrame'>\n",
      "Int64Index: 26105 entries, 0 to 34997\n",
      "Data columns (total 18 columns):\n",
      " #   Column              Non-Null Count  Dtype  \n",
      "---  ------              --------------  -----  \n",
      " 0   trip_distance       26105 non-null  float64\n",
      " 1   rate_code           26105 non-null  object \n",
      " 2   store_and_fwd_flag  26105 non-null  object \n",
      " 3   payment_type        26105 non-null  object \n",
      " 4   fare_amount         26105 non-null  float64\n",
      " 5   extra               26105 non-null  float64\n",
      " 6   mta_tax             26105 non-null  object \n",
      " 7   tip_amount          26105 non-null  float64\n",
      " 8   tolls_amount        26105 non-null  float64\n",
      " 9   imp_surcharge       26105 non-null  object \n",
      " 10  total_amount        26105 non-null  float64\n",
      " 11  month               26105 non-null  int64  \n",
      " 12  day                 26105 non-null  int64  \n",
      " 13  day_of_week         26105 non-null  int64  \n",
      " 14  hour_of_day         26105 non-null  int64  \n",
      " 15  trip_duration       26105 non-null  float64\n",
      " 16  Rush Hours          26105 non-null  int64  \n",
      " 17  clusters            26105 non-null  int32  \n",
      "dtypes: float64(7), int32(1), int64(5), object(5)\n",
      "memory usage: 3.7+ MB\n"
     ]
    }
   ],
   "source": [
    "finaltrain.info()"
   ]
  },
  {
   "cell_type": "code",
   "execution_count": 129,
   "id": "aae4ff9a",
   "metadata": {},
   "outputs": [
    {
     "data": {
      "text/plain": [
       "Index(['trip_distance', 'fare_amount', 'extra', 'tip_amount', 'tolls_amount',\n",
       "       'total_amount', 'month', 'day', 'day_of_week', 'hour_of_day',\n",
       "       'trip_duration', 'Rush Hours', 'clusters'],\n",
       "      dtype='object')"
      ]
     },
     "execution_count": 129,
     "metadata": {},
     "output_type": "execute_result"
    }
   ],
   "source": [
    "finaltrain.select_dtypes(include=np.number).columns"
   ]
  },
  {
   "cell_type": "code",
   "execution_count": 133,
   "id": "8d300252",
   "metadata": {},
   "outputs": [],
   "source": [
    "## this is scaleable code\n",
    "num_cols = ['trip_distance', 'fare_amount', 'extra', 'tip_amount', 'tolls_amount',\n",
    "       'total_amount', 'month', 'day', 'day_of_week', 'hour_of_day',\n",
    "       'trip_duration', 'clusters']\n",
    "\n",
    "from sklearn.preprocessing import MinMaxScaler\n",
    "minmax = MinMaxScaler(feature_range=(-1, 1))\n",
    "\n",
    "for i in num_cols:\n",
    "    finaltrain.loc[:, i] = minmax.fit_transform(pd.DataFrame(finaltrain.loc[:, i]))\n",
    "    finaltest.loc[:, i] = minmax.transform(pd.DataFrame(finaltest.loc[:, i]))"
   ]
  },
  {
   "cell_type": "code",
   "execution_count": 134,
   "id": "31bc79af",
   "metadata": {},
   "outputs": [
    {
     "data": {
      "text/html": [
       "<div>\n",
       "<style scoped>\n",
       "    .dataframe tbody tr th:only-of-type {\n",
       "        vertical-align: middle;\n",
       "    }\n",
       "\n",
       "    .dataframe tbody tr th {\n",
       "        vertical-align: top;\n",
       "    }\n",
       "\n",
       "    .dataframe thead th {\n",
       "        text-align: right;\n",
       "    }\n",
       "</style>\n",
       "<table border=\"1\" class=\"dataframe\">\n",
       "  <thead>\n",
       "    <tr style=\"text-align: right;\">\n",
       "      <th></th>\n",
       "      <th>trip_distance</th>\n",
       "      <th>rate_code</th>\n",
       "      <th>store_and_fwd_flag</th>\n",
       "      <th>payment_type</th>\n",
       "      <th>fare_amount</th>\n",
       "      <th>extra</th>\n",
       "      <th>mta_tax</th>\n",
       "      <th>tip_amount</th>\n",
       "      <th>tolls_amount</th>\n",
       "      <th>imp_surcharge</th>\n",
       "      <th>total_amount</th>\n",
       "      <th>month</th>\n",
       "      <th>day</th>\n",
       "      <th>day_of_week</th>\n",
       "      <th>hour_of_day</th>\n",
       "      <th>trip_duration</th>\n",
       "      <th>Rush Hours</th>\n",
       "      <th>clusters</th>\n",
       "    </tr>\n",
       "  </thead>\n",
       "  <tbody>\n",
       "    <tr>\n",
       "      <th>0</th>\n",
       "      <td>0.013529</td>\n",
       "      <td>1</td>\n",
       "      <td>N</td>\n",
       "      <td>1</td>\n",
       "      <td>-0.183932</td>\n",
       "      <td>-1.0</td>\n",
       "      <td>0.5</td>\n",
       "      <td>0.204142</td>\n",
       "      <td>-0.192146</td>\n",
       "      <td>0.3</td>\n",
       "      <td>-0.035101</td>\n",
       "      <td>-0.636364</td>\n",
       "      <td>-0.600000</td>\n",
       "      <td>-0.333333</td>\n",
       "      <td>-0.478261</td>\n",
       "      <td>0.133165</td>\n",
       "      <td>1</td>\n",
       "      <td>1.0</td>\n",
       "    </tr>\n",
       "    <tr>\n",
       "      <th>2</th>\n",
       "      <td>0.085682</td>\n",
       "      <td>1</td>\n",
       "      <td>N</td>\n",
       "      <td>1</td>\n",
       "      <td>0.471459</td>\n",
       "      <td>-1.0</td>\n",
       "      <td>0.5</td>\n",
       "      <td>0.421598</td>\n",
       "      <td>-0.192146</td>\n",
       "      <td>0.3</td>\n",
       "      <td>0.471845</td>\n",
       "      <td>-1.000000</td>\n",
       "      <td>0.866667</td>\n",
       "      <td>-1.000000</td>\n",
       "      <td>-0.304348</td>\n",
       "      <td>-0.340622</td>\n",
       "      <td>0</td>\n",
       "      <td>1.0</td>\n",
       "    </tr>\n",
       "    <tr>\n",
       "      <th>3</th>\n",
       "      <td>0.068771</td>\n",
       "      <td>1</td>\n",
       "      <td>N</td>\n",
       "      <td>1</td>\n",
       "      <td>-0.014799</td>\n",
       "      <td>0.0</td>\n",
       "      <td>0.5</td>\n",
       "      <td>0.368343</td>\n",
       "      <td>-0.192146</td>\n",
       "      <td>0.3</td>\n",
       "      <td>0.132487</td>\n",
       "      <td>0.454545</td>\n",
       "      <td>0.600000</td>\n",
       "      <td>-0.666667</td>\n",
       "      <td>0.739130</td>\n",
       "      <td>0.388281</td>\n",
       "      <td>1</td>\n",
       "      <td>0.5</td>\n",
       "    </tr>\n",
       "    <tr>\n",
       "      <th>4</th>\n",
       "      <td>-0.348365</td>\n",
       "      <td>1</td>\n",
       "      <td>N</td>\n",
       "      <td>1</td>\n",
       "      <td>-0.374207</td>\n",
       "      <td>0.0</td>\n",
       "      <td>0.5</td>\n",
       "      <td>-0.325444</td>\n",
       "      <td>-1.000000</td>\n",
       "      <td>0.3</td>\n",
       "      <td>-0.433607</td>\n",
       "      <td>0.272727</td>\n",
       "      <td>0.266667</td>\n",
       "      <td>-1.000000</td>\n",
       "      <td>0.826087</td>\n",
       "      <td>-0.178581</td>\n",
       "      <td>0</td>\n",
       "      <td>0.5</td>\n",
       "    </tr>\n",
       "    <tr>\n",
       "      <th>5</th>\n",
       "      <td>0.423901</td>\n",
       "      <td>1</td>\n",
       "      <td>N</td>\n",
       "      <td>1</td>\n",
       "      <td>0.471459</td>\n",
       "      <td>-1.0</td>\n",
       "      <td>0.5</td>\n",
       "      <td>-0.997041</td>\n",
       "      <td>-0.192146</td>\n",
       "      <td>0.3</td>\n",
       "      <td>0.185362</td>\n",
       "      <td>-1.000000</td>\n",
       "      <td>-0.533333</td>\n",
       "      <td>-1.000000</td>\n",
       "      <td>-0.391304</td>\n",
       "      <td>0.075974</td>\n",
       "      <td>0</td>\n",
       "      <td>1.0</td>\n",
       "    </tr>\n",
       "    <tr>\n",
       "      <th>...</th>\n",
       "      <td>...</td>\n",
       "      <td>...</td>\n",
       "      <td>...</td>\n",
       "      <td>...</td>\n",
       "      <td>...</td>\n",
       "      <td>...</td>\n",
       "      <td>...</td>\n",
       "      <td>...</td>\n",
       "      <td>...</td>\n",
       "      <td>...</td>\n",
       "      <td>...</td>\n",
       "      <td>...</td>\n",
       "      <td>...</td>\n",
       "      <td>...</td>\n",
       "      <td>...</td>\n",
       "      <td>...</td>\n",
       "      <td>...</td>\n",
       "      <td>...</td>\n",
       "    </tr>\n",
       "    <tr>\n",
       "      <th>34990</th>\n",
       "      <td>-0.077790</td>\n",
       "      <td>1</td>\n",
       "      <td>N</td>\n",
       "      <td>1</td>\n",
       "      <td>-0.226216</td>\n",
       "      <td>0.0</td>\n",
       "      <td>0.5</td>\n",
       "      <td>-0.223373</td>\n",
       "      <td>-1.000000</td>\n",
       "      <td>0.3</td>\n",
       "      <td>-0.308439</td>\n",
       "      <td>-0.636364</td>\n",
       "      <td>0.600000</td>\n",
       "      <td>1.000000</td>\n",
       "      <td>0.739130</td>\n",
       "      <td>-0.304738</td>\n",
       "      <td>1</td>\n",
       "      <td>-1.0</td>\n",
       "    </tr>\n",
       "    <tr>\n",
       "      <th>34991</th>\n",
       "      <td>-0.167982</td>\n",
       "      <td>1</td>\n",
       "      <td>Y</td>\n",
       "      <td>2</td>\n",
       "      <td>-0.120507</td>\n",
       "      <td>-1.0</td>\n",
       "      <td>0.5</td>\n",
       "      <td>-1.000000</td>\n",
       "      <td>-1.000000</td>\n",
       "      <td>0.3</td>\n",
       "      <td>-0.405527</td>\n",
       "      <td>0.636364</td>\n",
       "      <td>0.200000</td>\n",
       "      <td>0.333333</td>\n",
       "      <td>-0.391304</td>\n",
       "      <td>0.400056</td>\n",
       "      <td>0</td>\n",
       "      <td>-0.5</td>\n",
       "    </tr>\n",
       "    <tr>\n",
       "      <th>34993</th>\n",
       "      <td>-0.506201</td>\n",
       "      <td>1</td>\n",
       "      <td>N</td>\n",
       "      <td>1</td>\n",
       "      <td>-0.289641</td>\n",
       "      <td>-1.0</td>\n",
       "      <td>0.5</td>\n",
       "      <td>-0.282544</td>\n",
       "      <td>-1.000000</td>\n",
       "      <td>0.3</td>\n",
       "      <td>-0.380134</td>\n",
       "      <td>0.454545</td>\n",
       "      <td>0.533333</td>\n",
       "      <td>-1.000000</td>\n",
       "      <td>0.304348</td>\n",
       "      <td>-0.102888</td>\n",
       "      <td>1</td>\n",
       "      <td>-0.5</td>\n",
       "    </tr>\n",
       "    <tr>\n",
       "      <th>34994</th>\n",
       "      <td>-0.448703</td>\n",
       "      <td>1</td>\n",
       "      <td>N</td>\n",
       "      <td>1</td>\n",
       "      <td>-0.331924</td>\n",
       "      <td>1.0</td>\n",
       "      <td>0.5</td>\n",
       "      <td>-0.100592</td>\n",
       "      <td>-1.000000</td>\n",
       "      <td>0.3</td>\n",
       "      <td>-0.343391</td>\n",
       "      <td>-0.090909</td>\n",
       "      <td>0.666667</td>\n",
       "      <td>-0.666667</td>\n",
       "      <td>0.391304</td>\n",
       "      <td>-0.013737</td>\n",
       "      <td>1</td>\n",
       "      <td>-1.0</td>\n",
       "    </tr>\n",
       "    <tr>\n",
       "      <th>34997</th>\n",
       "      <td>-0.237880</td>\n",
       "      <td>1</td>\n",
       "      <td>N</td>\n",
       "      <td>1</td>\n",
       "      <td>-0.310782</td>\n",
       "      <td>-1.0</td>\n",
       "      <td>0.5</td>\n",
       "      <td>-0.119822</td>\n",
       "      <td>-1.000000</td>\n",
       "      <td>0.3</td>\n",
       "      <td>-0.362211</td>\n",
       "      <td>-0.636364</td>\n",
       "      <td>-0.600000</td>\n",
       "      <td>-0.333333</td>\n",
       "      <td>-0.304348</td>\n",
       "      <td>0.317073</td>\n",
       "      <td>0</td>\n",
       "      <td>1.0</td>\n",
       "    </tr>\n",
       "  </tbody>\n",
       "</table>\n",
       "<p>26105 rows × 18 columns</p>\n",
       "</div>"
      ],
      "text/plain": [
       "       trip_distance rate_code store_and_fwd_flag payment_type  fare_amount  \\\n",
       "0           0.013529         1                  N            1    -0.183932   \n",
       "2           0.085682         1                  N            1     0.471459   \n",
       "3           0.068771         1                  N            1    -0.014799   \n",
       "4          -0.348365         1                  N            1    -0.374207   \n",
       "5           0.423901         1                  N            1     0.471459   \n",
       "...              ...       ...                ...          ...          ...   \n",
       "34990      -0.077790         1                  N            1    -0.226216   \n",
       "34991      -0.167982         1                  Y            2    -0.120507   \n",
       "34993      -0.506201         1                  N            1    -0.289641   \n",
       "34994      -0.448703         1                  N            1    -0.331924   \n",
       "34997      -0.237880         1                  N            1    -0.310782   \n",
       "\n",
       "       extra mta_tax  tip_amount  tolls_amount imp_surcharge  total_amount  \\\n",
       "0       -1.0     0.5    0.204142     -0.192146           0.3     -0.035101   \n",
       "2       -1.0     0.5    0.421598     -0.192146           0.3      0.471845   \n",
       "3        0.0     0.5    0.368343     -0.192146           0.3      0.132487   \n",
       "4        0.0     0.5   -0.325444     -1.000000           0.3     -0.433607   \n",
       "5       -1.0     0.5   -0.997041     -0.192146           0.3      0.185362   \n",
       "...      ...     ...         ...           ...           ...           ...   \n",
       "34990    0.0     0.5   -0.223373     -1.000000           0.3     -0.308439   \n",
       "34991   -1.0     0.5   -1.000000     -1.000000           0.3     -0.405527   \n",
       "34993   -1.0     0.5   -0.282544     -1.000000           0.3     -0.380134   \n",
       "34994    1.0     0.5   -0.100592     -1.000000           0.3     -0.343391   \n",
       "34997   -1.0     0.5   -0.119822     -1.000000           0.3     -0.362211   \n",
       "\n",
       "          month       day  day_of_week  hour_of_day  trip_duration  \\\n",
       "0     -0.636364 -0.600000    -0.333333    -0.478261       0.133165   \n",
       "2     -1.000000  0.866667    -1.000000    -0.304348      -0.340622   \n",
       "3      0.454545  0.600000    -0.666667     0.739130       0.388281   \n",
       "4      0.272727  0.266667    -1.000000     0.826087      -0.178581   \n",
       "5     -1.000000 -0.533333    -1.000000    -0.391304       0.075974   \n",
       "...         ...       ...          ...          ...            ...   \n",
       "34990 -0.636364  0.600000     1.000000     0.739130      -0.304738   \n",
       "34991  0.636364  0.200000     0.333333    -0.391304       0.400056   \n",
       "34993  0.454545  0.533333    -1.000000     0.304348      -0.102888   \n",
       "34994 -0.090909  0.666667    -0.666667     0.391304      -0.013737   \n",
       "34997 -0.636364 -0.600000    -0.333333    -0.304348       0.317073   \n",
       "\n",
       "       Rush Hours  clusters  \n",
       "0               1       1.0  \n",
       "2               0       1.0  \n",
       "3               1       0.5  \n",
       "4               0       0.5  \n",
       "5               0       1.0  \n",
       "...           ...       ...  \n",
       "34990           1      -1.0  \n",
       "34991           0      -0.5  \n",
       "34993           1      -0.5  \n",
       "34994           1      -1.0  \n",
       "34997           0       1.0  \n",
       "\n",
       "[26105 rows x 18 columns]"
      ]
     },
     "execution_count": 134,
     "metadata": {},
     "output_type": "execute_result"
    }
   ],
   "source": [
    "finaltrain"
   ]
  },
  {
   "cell_type": "markdown",
   "id": "37f14acc",
   "metadata": {},
   "source": [
    "**Dummy**"
   ]
  },
  {
   "cell_type": "code",
   "execution_count": 136,
   "id": "ef28a594",
   "metadata": {},
   "outputs": [],
   "source": [
    "dummytrain = pd.get_dummies(finaltrain, drop_first=True)\n",
    "dummytest = pd.get_dummies(finaltest, drop_first=True)"
   ]
  },
  {
   "cell_type": "code",
   "execution_count": 137,
   "id": "4685c345",
   "metadata": {},
   "outputs": [
    {
     "data": {
      "text/plain": [
       "((26105, 22), (15000, 23))"
      ]
     },
     "execution_count": 137,
     "metadata": {},
     "output_type": "execute_result"
    }
   ],
   "source": [
    "dummytrain.shape, dummytest.shape"
   ]
  },
  {
   "cell_type": "code",
   "execution_count": 142,
   "id": "03e7eed9",
   "metadata": {},
   "outputs": [
    {
     "data": {
      "text/html": [
       "<div>\n",
       "<style scoped>\n",
       "    .dataframe tbody tr th:only-of-type {\n",
       "        vertical-align: middle;\n",
       "    }\n",
       "\n",
       "    .dataframe tbody tr th {\n",
       "        vertical-align: top;\n",
       "    }\n",
       "\n",
       "    .dataframe thead th {\n",
       "        text-align: right;\n",
       "    }\n",
       "</style>\n",
       "<table border=\"1\" class=\"dataframe\">\n",
       "  <thead>\n",
       "    <tr style=\"text-align: right;\">\n",
       "      <th></th>\n",
       "      <th>trip_distance</th>\n",
       "      <th>fare_amount</th>\n",
       "      <th>extra</th>\n",
       "      <th>tip_amount</th>\n",
       "      <th>tolls_amount</th>\n",
       "      <th>total_amount</th>\n",
       "      <th>month</th>\n",
       "      <th>day</th>\n",
       "      <th>day_of_week</th>\n",
       "      <th>hour_of_day</th>\n",
       "      <th>trip_duration</th>\n",
       "      <th>Rush Hours</th>\n",
       "      <th>clusters</th>\n",
       "      <th>rate_code_3</th>\n",
       "      <th>rate_code_4</th>\n",
       "      <th>rate_code_5</th>\n",
       "      <th>store_and_fwd_flag_Y</th>\n",
       "      <th>payment_type_2</th>\n",
       "      <th>payment_type_3</th>\n",
       "      <th>payment_type_4</th>\n",
       "      <th>mta_tax_0.5</th>\n",
       "      <th>imp_surcharge_0.3</th>\n",
       "    </tr>\n",
       "  </thead>\n",
       "  <tbody>\n",
       "    <tr>\n",
       "      <th>35000</th>\n",
       "      <td>0.767756</td>\n",
       "      <td>0.619450</td>\n",
       "      <td>-1.0</td>\n",
       "      <td>-1.000000</td>\n",
       "      <td>-1.000000</td>\n",
       "      <td>0.117252</td>\n",
       "      <td>0.636364</td>\n",
       "      <td>0.266667</td>\n",
       "      <td>0.666667</td>\n",
       "      <td>0.391304</td>\n",
       "      <td>1.162602</td>\n",
       "      <td>1</td>\n",
       "      <td>0.5</td>\n",
       "      <td>0</td>\n",
       "      <td>0</td>\n",
       "      <td>0</td>\n",
       "      <td>0</td>\n",
       "      <td>1</td>\n",
       "      <td>0</td>\n",
       "      <td>0</td>\n",
       "      <td>1</td>\n",
       "      <td>1</td>\n",
       "    </tr>\n",
       "    <tr>\n",
       "      <th>35001</th>\n",
       "      <td>-0.179256</td>\n",
       "      <td>-0.205074</td>\n",
       "      <td>-1.0</td>\n",
       "      <td>0.167160</td>\n",
       "      <td>-1.000000</td>\n",
       "      <td>-0.229574</td>\n",
       "      <td>-0.818182</td>\n",
       "      <td>0.533333</td>\n",
       "      <td>0.666667</td>\n",
       "      <td>0.304348</td>\n",
       "      <td>-0.225680</td>\n",
       "      <td>1</td>\n",
       "      <td>-1.0</td>\n",
       "      <td>0</td>\n",
       "      <td>0</td>\n",
       "      <td>0</td>\n",
       "      <td>0</td>\n",
       "      <td>0</td>\n",
       "      <td>0</td>\n",
       "      <td>0</td>\n",
       "      <td>1</td>\n",
       "      <td>1</td>\n",
       "    </tr>\n",
       "    <tr>\n",
       "      <th>35002</th>\n",
       "      <td>0.674183</td>\n",
       "      <td>0.429175</td>\n",
       "      <td>0.0</td>\n",
       "      <td>0.236686</td>\n",
       "      <td>-1.000000</td>\n",
       "      <td>0.247498</td>\n",
       "      <td>0.454545</td>\n",
       "      <td>-0.333333</td>\n",
       "      <td>-0.666667</td>\n",
       "      <td>0.913043</td>\n",
       "      <td>-0.279507</td>\n",
       "      <td>0</td>\n",
       "      <td>0.5</td>\n",
       "      <td>0</td>\n",
       "      <td>0</td>\n",
       "      <td>0</td>\n",
       "      <td>0</td>\n",
       "      <td>0</td>\n",
       "      <td>0</td>\n",
       "      <td>0</td>\n",
       "      <td>1</td>\n",
       "      <td>1</td>\n",
       "    </tr>\n",
       "    <tr>\n",
       "      <th>35003</th>\n",
       "      <td>-0.675310</td>\n",
       "      <td>-0.353066</td>\n",
       "      <td>-1.0</td>\n",
       "      <td>-1.000000</td>\n",
       "      <td>-1.000000</td>\n",
       "      <td>-0.569828</td>\n",
       "      <td>-0.090909</td>\n",
       "      <td>-0.600000</td>\n",
       "      <td>0.000000</td>\n",
       "      <td>-0.043478</td>\n",
       "      <td>-0.084945</td>\n",
       "      <td>0</td>\n",
       "      <td>1.0</td>\n",
       "      <td>0</td>\n",
       "      <td>0</td>\n",
       "      <td>0</td>\n",
       "      <td>0</td>\n",
       "      <td>1</td>\n",
       "      <td>0</td>\n",
       "      <td>0</td>\n",
       "      <td>1</td>\n",
       "      <td>1</td>\n",
       "    </tr>\n",
       "    <tr>\n",
       "      <th>35004</th>\n",
       "      <td>0.007892</td>\n",
       "      <td>0.069767</td>\n",
       "      <td>-1.0</td>\n",
       "      <td>-1.000000</td>\n",
       "      <td>-0.192146</td>\n",
       "      <td>-0.099029</td>\n",
       "      <td>-0.454545</td>\n",
       "      <td>0.266667</td>\n",
       "      <td>0.333333</td>\n",
       "      <td>-0.130435</td>\n",
       "      <td>-0.151668</td>\n",
       "      <td>1</td>\n",
       "      <td>1.0</td>\n",
       "      <td>0</td>\n",
       "      <td>0</td>\n",
       "      <td>0</td>\n",
       "      <td>0</td>\n",
       "      <td>0</td>\n",
       "      <td>0</td>\n",
       "      <td>0</td>\n",
       "      <td>1</td>\n",
       "      <td>1</td>\n",
       "    </tr>\n",
       "  </tbody>\n",
       "</table>\n",
       "</div>"
      ],
      "text/plain": [
       "       trip_distance  fare_amount  extra  tip_amount  tolls_amount  \\\n",
       "35000       0.767756     0.619450   -1.0   -1.000000     -1.000000   \n",
       "35001      -0.179256    -0.205074   -1.0    0.167160     -1.000000   \n",
       "35002       0.674183     0.429175    0.0    0.236686     -1.000000   \n",
       "35003      -0.675310    -0.353066   -1.0   -1.000000     -1.000000   \n",
       "35004       0.007892     0.069767   -1.0   -1.000000     -0.192146   \n",
       "\n",
       "       total_amount     month       day  day_of_week  hour_of_day  \\\n",
       "35000      0.117252  0.636364  0.266667     0.666667     0.391304   \n",
       "35001     -0.229574 -0.818182  0.533333     0.666667     0.304348   \n",
       "35002      0.247498  0.454545 -0.333333    -0.666667     0.913043   \n",
       "35003     -0.569828 -0.090909 -0.600000     0.000000    -0.043478   \n",
       "35004     -0.099029 -0.454545  0.266667     0.333333    -0.130435   \n",
       "\n",
       "       trip_duration  Rush Hours  clusters  rate_code_3  rate_code_4  \\\n",
       "35000       1.162602           1       0.5            0            0   \n",
       "35001      -0.225680           1      -1.0            0            0   \n",
       "35002      -0.279507           0       0.5            0            0   \n",
       "35003      -0.084945           0       1.0            0            0   \n",
       "35004      -0.151668           1       1.0            0            0   \n",
       "\n",
       "       rate_code_5  store_and_fwd_flag_Y  payment_type_2  payment_type_3  \\\n",
       "35000            0                     0               1               0   \n",
       "35001            0                     0               0               0   \n",
       "35002            0                     0               0               0   \n",
       "35003            0                     0               1               0   \n",
       "35004            0                     0               0               0   \n",
       "\n",
       "       payment_type_4  mta_tax_0.5  imp_surcharge_0.3  \n",
       "35000               0            1                  1  \n",
       "35001               0            1                  1  \n",
       "35002               0            1                  1  \n",
       "35003               0            1                  1  \n",
       "35004               0            1                  1  "
      ]
     },
     "execution_count": 142,
     "metadata": {},
     "output_type": "execute_result"
    }
   ],
   "source": [
    "dummytest.head()"
   ]
  },
  {
   "cell_type": "markdown",
   "id": "72a33a2d",
   "metadata": {},
   "source": [
    "**Rate_code_2**"
   ]
  },
  {
   "cell_type": "code",
   "execution_count": 139,
   "id": "5184cd1f",
   "metadata": {},
   "outputs": [
    {
     "data": {
      "text/plain": [
       "(15000, 22)"
      ]
     },
     "execution_count": 139,
     "metadata": {},
     "output_type": "execute_result"
    }
   ],
   "source": [
    "dummytest.drop(\"rate_code_2\", axis=1, inplace = True)\n",
    "dummytest.shape"
   ]
  },
  {
   "cell_type": "markdown",
   "id": "0709b3db",
   "metadata": {},
   "source": [
    "## Model building"
   ]
  },
  {
   "cell_type": "code",
   "execution_count": null,
   "id": "db69d1ed",
   "metadata": {},
   "outputs": [],
   "source": [
    "      Train / test\n",
    "    \n",
    "    Train -->  Validation -->  Test"
   ]
  },
  {
   "cell_type": "markdown",
   "id": "61dfc2d6",
   "metadata": {},
   "source": [
    "## Linear Regression"
   ]
  },
  {
   "cell_type": "code",
   "execution_count": 145,
   "id": "6f587f97",
   "metadata": {},
   "outputs": [],
   "source": [
    "y = wt_outliers.calculated_total_amount"
   ]
  },
  {
   "cell_type": "markdown",
   "id": "e7275073",
   "metadata": {},
   "source": [
    "**Training and Validation set to build the models**"
   ]
  },
  {
   "cell_type": "code",
   "execution_count": 149,
   "id": "77658004",
   "metadata": {},
   "outputs": [],
   "source": [
    "from sklearn.linear_model import LinearRegression\n",
    "from sklearn.model_selection import KFold\n",
    "from sklearn.metrics import mean_squared_error"
   ]
  },
  {
   "cell_type": "code",
   "execution_count": 237,
   "id": "de1b9d3a",
   "metadata": {
    "scrolled": false
   },
   "outputs": [
    {
     "name": "stdout",
     "output_type": "stream",
     "text": [
      "12.36551935198674\n",
      "12.376492810045997\n"
     ]
    }
   ],
   "source": [
    "kfold = KFold(n_splits = 5, shuffle = True, random_state = 42)\n",
    "\n",
    "lr = LinearRegression()\n",
    "pred_train = []\n",
    "pred_test =  []\n",
    "rmse_train = []\n",
    "rmse_test=[]\n",
    "\n",
    "for train_index, test_index in kfold.split(dummytrain, y):\n",
    "    xtrain = dummytrain.iloc[train_index]\n",
    "    ytrain = y.iloc[train_index]\n",
    "    xtest = dummytrain.iloc[test_index]      ## Validation set\n",
    "    ytest = y.iloc[test_index]               ## Validation set\n",
    "    \n",
    "    pred_train = (lr.fit(xtrain, ytrain).predict(xtrain))\n",
    "    pred_test = (lr.fit(xtrain, ytrain).predict(xtest))\n",
    "    \n",
    "    rmse_train.append(np.sqrt(mean_squared_error(ytrain, pred_train)))\n",
    "    rmse_test.append(np.sqrt(mean_squared_error(ytest, pred_test)))\n",
    "    \n",
    "print(np.mean(rmse_train))\n",
    "print(np.mean(rmse_test))"
   ]
  },
  {
   "cell_type": "markdown",
   "id": "a4559e84",
   "metadata": {},
   "source": [
    "## DecisionTreeRegressor"
   ]
  },
  {
   "cell_type": "code",
   "execution_count": 172,
   "id": "ce5a8c6e",
   "metadata": {},
   "outputs": [],
   "source": [
    "from sklearn.tree import DecisionTreeRegressor"
   ]
  },
  {
   "cell_type": "code",
   "execution_count": 173,
   "id": "4270be49",
   "metadata": {},
   "outputs": [
    {
     "name": "stdout",
     "output_type": "stream",
     "text": [
      "1.2043673868681282e-17\n",
      "18.047599239817124\n"
     ]
    }
   ],
   "source": [
    "kfold=KFold(n_splits=5,shuffle=True,random_state=42)\n",
    "\n",
    "dt=DecisionTreeRegressor()\n",
    "\n",
    "pred_train=[]\n",
    "pred_test=[]\n",
    "\n",
    "rmse_train=[]\n",
    "rmse_test=[]\n",
    "\n",
    "for train_index,test_index in kfold.split(dummytrain,y):\n",
    "    xtrain=dummytrain.iloc[train_index]\n",
    "    ytrain=y.iloc[train_index]\n",
    "    xtest=dummytrain.iloc[test_index] #validation set\n",
    "    ytest=y.iloc[test_index] #validation set\n",
    "    \n",
    "    pred_train=(dt.fit(xtrain,ytrain).predict(xtrain))\n",
    "    pred_test=(dt.fit(xtrain,ytrain).predict(xtest))\n",
    "    \n",
    "    rmse_train.append(np.sqrt(mean_squared_error(ytrain,pred_train)))\n",
    "    rmse_test.append(np.sqrt(mean_squared_error(ytest,pred_test)))\n",
    "    \n",
    "print(np.mean(rmse_train))\n",
    "print(np.mean(rmse_test))"
   ]
  },
  {
   "cell_type": "markdown",
   "id": "ef50c38f",
   "metadata": {},
   "source": [
    "## Ridge"
   ]
  },
  {
   "cell_type": "code",
   "execution_count": 177,
   "id": "7243a77d",
   "metadata": {},
   "outputs": [],
   "source": [
    "from sklearn.linear_model import Ridge"
   ]
  },
  {
   "cell_type": "code",
   "execution_count": 178,
   "id": "d9dc2e74",
   "metadata": {},
   "outputs": [
    {
     "name": "stdout",
     "output_type": "stream",
     "text": [
      "12.365626202379445\n",
      "12.375722209705504\n"
     ]
    }
   ],
   "source": [
    "kfold=KFold(n_splits=5,shuffle=True,random_state=42)\n",
    "\n",
    "rid = Ridge() \n",
    "\n",
    "pred_train=[]\n",
    "pred_test=[]\n",
    "\n",
    "rmse_train=[]\n",
    "rmse_test=[]\n",
    "\n",
    "for train_index,test_index in kfold.split(dummytrain,y):\n",
    "    xtrain=dummytrain.iloc[train_index]\n",
    "    ytrain=y.iloc[train_index]\n",
    "    xtest=dummytrain.iloc[test_index] #validation set\n",
    "    ytest=y.iloc[test_index] #validation set\n",
    "    \n",
    "    pred_train=(rid.fit(xtrain,ytrain).predict(xtrain))\n",
    "    pred_test=(rid.fit(xtrain,ytrain).predict(xtest))\n",
    "    \n",
    "    rmse_train.append(np.sqrt(mean_squared_error(ytrain,pred_train)))\n",
    "    rmse_test.append(np.sqrt(mean_squared_error(ytest,pred_test)))\n",
    "    \n",
    "print(np.mean(rmse_train))\n",
    "print(np.mean(rmse_test))"
   ]
  },
  {
   "cell_type": "markdown",
   "id": "9bb60fe7",
   "metadata": {},
   "source": [
    "## Lasso Regressor"
   ]
  },
  {
   "cell_type": "code",
   "execution_count": 180,
   "id": "589a6e85",
   "metadata": {},
   "outputs": [],
   "source": [
    "from sklearn.linear_model import Lasso"
   ]
  },
  {
   "cell_type": "code",
   "execution_count": 181,
   "id": "673a1cef",
   "metadata": {},
   "outputs": [
    {
     "name": "stdout",
     "output_type": "stream",
     "text": [
      "12.392158144315555\n",
      "12.391967385912054\n"
     ]
    }
   ],
   "source": [
    "kfold = KFold(n_splits=5,shuffle=True,random_state=42)\n",
    "\n",
    "las = Lasso()\n",
    "\n",
    "pred_train=[]\n",
    "pred_test=[]\n",
    "\n",
    "rmse_train=[]\n",
    "rmse_test=[]\n",
    "\n",
    "for train_index,test_index in kfold.split(dummytrain,y):\n",
    "    xtrain=dummytrain.iloc[train_index]\n",
    "    ytrain=y.iloc[train_index]\n",
    "    xtest=dummytrain.iloc[test_index] #validation set\n",
    "    ytest=y.iloc[test_index] #validation set\n",
    "    \n",
    "    pred_train=(las.fit(xtrain,ytrain).predict(xtrain))\n",
    "    pred_test=(las.fit(xtrain,ytrain).predict(xtest))\n",
    "    \n",
    "    rmse_train.append(np.sqrt(mean_squared_error(ytrain,pred_train)))\n",
    "    rmse_test.append(np.sqrt(mean_squared_error(ytest,pred_test)))\n",
    "    \n",
    "print(np.mean(rmse_train))\n",
    "print(np.mean(rmse_test))"
   ]
  },
  {
   "cell_type": "code",
   "execution_count": null,
   "id": "2dd5ac48",
   "metadata": {},
   "outputs": [],
   "source": [
    "###"
   ]
  },
  {
   "cell_type": "markdown",
   "id": "56c7f3e9",
   "metadata": {},
   "source": [
    "## Random Forest"
   ]
  },
  {
   "cell_type": "code",
   "execution_count": 182,
   "id": "c7e8ecd5",
   "metadata": {},
   "outputs": [],
   "source": [
    "from sklearn.ensemble import RandomForestRegressor, AdaBoostRegressor, GradientBoostingRegressor"
   ]
  },
  {
   "cell_type": "code",
   "execution_count": 184,
   "id": "e4b93eb6",
   "metadata": {},
   "outputs": [
    {
     "name": "stdout",
     "output_type": "stream",
     "text": [
      "4.721845851498363\n",
      "12.637091924798264\n"
     ]
    }
   ],
   "source": [
    "rf = RandomForestRegressor()\n",
    "rmse_train = []\n",
    "rmse_test = []\n",
    "\n",
    "pred_train=[]\n",
    "pred_test=[]\n",
    "\n",
    "rmse_train=[]\n",
    "rmse_test=[]\n",
    "\n",
    "for train_index,test_index in kfold.split(dummytrain,y):\n",
    "    xtrain=dummytrain.iloc[train_index]\n",
    "    ytrain=y.iloc[train_index]\n",
    "    xtest=dummytrain.iloc[test_index] #validation set\n",
    "    ytest=y.iloc[test_index] #validation set\n",
    "    \n",
    "    pred_train=(rf.fit(xtrain,ytrain).predict(xtrain))\n",
    "    pred_test=(rf.fit(xtrain,ytrain).predict(xtest))\n",
    "    \n",
    "    rmse_train.append(np.sqrt(mean_squared_error(ytrain,pred_train)))\n",
    "    rmse_test.append(np.sqrt(mean_squared_error(ytest,pred_test)))\n",
    "    \n",
    "print(np.mean(rmse_train))\n",
    "print(np.mean(rmse_test))"
   ]
  },
  {
   "cell_type": "markdown",
   "id": "97929644",
   "metadata": {},
   "source": [
    "## Adaboost"
   ]
  },
  {
   "cell_type": "code",
   "execution_count": 187,
   "id": "ba1b650b",
   "metadata": {},
   "outputs": [
    {
     "name": "stdout",
     "output_type": "stream",
     "text": [
      "12.360515716714403\n",
      "12.374707976791605\n"
     ]
    }
   ],
   "source": [
    "ada = AdaBoostRegressor()\n",
    "rmse_train = []\n",
    "rmse_test = []\n",
    "\n",
    "pred_train=[]\n",
    "pred_test=[]\n",
    "\n",
    "rmse_train=[]\n",
    "rmse_test=[]\n",
    "\n",
    "for train_index,test_index in kfold.split(dummytrain,y):\n",
    "    xtrain=dummytrain.iloc[train_index]\n",
    "    ytrain=y.iloc[train_index]\n",
    "    xtest=dummytrain.iloc[test_index] #validation set\n",
    "    ytest=y.iloc[test_index] #validation set\n",
    "    \n",
    "    pred_train=(ada.fit(xtrain,ytrain).predict(xtrain))\n",
    "    pred_test=(ada.fit(xtrain,ytrain).predict(xtest))\n",
    "    \n",
    "    rmse_train.append(np.sqrt(mean_squared_error(ytrain,pred_train)))\n",
    "    rmse_test.append(np.sqrt(mean_squared_error(ytest,pred_test)))\n",
    "    \n",
    "print(np.mean(rmse_train))\n",
    "print(np.mean(rmse_test))"
   ]
  },
  {
   "cell_type": "markdown",
   "id": "d0088577",
   "metadata": {},
   "source": [
    "## Gradient Regressor"
   ]
  },
  {
   "cell_type": "code",
   "execution_count": 188,
   "id": "c1ad45fd",
   "metadata": {},
   "outputs": [
    {
     "name": "stdout",
     "output_type": "stream",
     "text": [
      "12.200447831959028\n",
      "12.385716912048569\n"
     ]
    }
   ],
   "source": [
    "gbm = GradientBoostingRegressor()\n",
    "rmse_train = []\n",
    "rmse_test = []\n",
    "\n",
    "pred_train=[]\n",
    "pred_test=[]\n",
    "\n",
    "rmse_train=[]\n",
    "rmse_test=[]\n",
    "\n",
    "for train_index,test_index in kfold.split(dummytrain,y):\n",
    "    xtrain=dummytrain.iloc[train_index]\n",
    "    ytrain=y.iloc[train_index]\n",
    "    xtest=dummytrain.iloc[test_index] #validation set\n",
    "    ytest=y.iloc[test_index] #validation set\n",
    "    \n",
    "    pred_train=(gbm.fit(xtrain,ytrain).predict(xtrain))\n",
    "    pred_test=(gbm.fit(xtrain,ytrain).predict(xtest))\n",
    "    \n",
    "    rmse_train.append(np.sqrt(mean_squared_error(ytrain,pred_train)))\n",
    "    rmse_test.append(np.sqrt(mean_squared_error(ytest,pred_test)))\n",
    "    \n",
    "print(np.mean(rmse_train))\n",
    "print(np.mean(rmse_test))"
   ]
  },
  {
   "cell_type": "code",
   "execution_count": 193,
   "id": "db490dc9",
   "metadata": {},
   "outputs": [],
   "source": [
    "from xgboost import XGBRegressor\n",
    "from lightgbm import LGBMRegressor"
   ]
  },
  {
   "cell_type": "markdown",
   "id": "83cb63f2",
   "metadata": {},
   "source": [
    "## XGBRgressor"
   ]
  },
  {
   "cell_type": "code",
   "execution_count": 195,
   "id": "ecf8c67d",
   "metadata": {},
   "outputs": [
    {
     "name": "stdout",
     "output_type": "stream",
     "text": [
      "10.028084396358583\n",
      "12.809196716822948\n"
     ]
    }
   ],
   "source": [
    "xgb = XGBRegressor()\n",
    "rmse_train = []\n",
    "rmse_test = []\n",
    "\n",
    "pred_train=[]\n",
    "pred_test=[]\n",
    "\n",
    "rmse_train=[]\n",
    "rmse_test=[]\n",
    "\n",
    "for train_index,test_index in kfold.split(dummytrain,y):\n",
    "    xtrain=dummytrain.iloc[train_index]\n",
    "    ytrain=y.iloc[train_index]\n",
    "    xtest=dummytrain.iloc[test_index] #validation set\n",
    "    ytest=y.iloc[test_index] #validation set\n",
    "    \n",
    "    pred_train=(xgb.fit(xtrain,ytrain).predict(xtrain))\n",
    "    pred_test=(xgb.fit(xtrain,ytrain).predict(xtest))\n",
    "    \n",
    "    rmse_train.append(np.sqrt(mean_squared_error(ytrain,pred_train)))\n",
    "    rmse_test.append(np.sqrt(mean_squared_error(ytest,pred_test)))\n",
    "    \n",
    "print(np.mean(rmse_train))\n",
    "print(np.mean(rmse_test))"
   ]
  },
  {
   "cell_type": "markdown",
   "id": "688d7781",
   "metadata": {},
   "source": [
    "## LGBMRegressor"
   ]
  },
  {
   "cell_type": "code",
   "execution_count": 196,
   "id": "c858e470",
   "metadata": {},
   "outputs": [
    {
     "name": "stdout",
     "output_type": "stream",
     "text": [
      "11.549583122533907\n",
      "12.43930930109095\n"
     ]
    }
   ],
   "source": [
    "lgb = LGBMRegressor()\n",
    "rmse_train = []\n",
    "rmse_test = []\n",
    "\n",
    "pred_train=[]\n",
    "pred_test=[]\n",
    "\n",
    "rmse_train=[]\n",
    "rmse_test=[]\n",
    "\n",
    "for train_index,test_index in kfold.split(dummytrain,y):\n",
    "    xtrain=dummytrain.iloc[train_index]\n",
    "    ytrain=y.iloc[train_index]\n",
    "    xtest=dummytrain.iloc[test_index] #validation set\n",
    "    ytest=y.iloc[test_index] #validation set\n",
    "    \n",
    "    pred_train=(lgb.fit(xtrain,ytrain).predict(xtrain))\n",
    "    pred_test=(lgb.fit(xtrain,ytrain).predict(xtest))\n",
    "    \n",
    "    rmse_train.append(np.sqrt(mean_squared_error(ytrain,pred_train)))\n",
    "    rmse_test.append(np.sqrt(mean_squared_error(ytest,pred_test)))\n",
    "    \n",
    "print(np.mean(rmse_train))\n",
    "print(np.mean(rmse_test))"
   ]
  },
  {
   "cell_type": "markdown",
   "id": "6962b7f3",
   "metadata": {},
   "source": [
    "## Parameters Tuning with XGBoosting"
   ]
  },
  {
   "cell_type": "code",
   "execution_count": 201,
   "id": "326ba462",
   "metadata": {},
   "outputs": [
    {
     "name": "stdout",
     "output_type": "stream",
     "text": [
      "11.549583122533907\n",
      "12.43930930109095\n"
     ]
    }
   ],
   "source": [
    "xgb = XGBRegressor(max_depth = 2, n_estimators = 49, reg_lambda = 1.6)\n",
    "\n",
    "pred_train=[]\n",
    "pred_test=[]\n",
    "\n",
    "rmse_train=[]\n",
    "rmse_test=[]\n",
    "\n",
    "for train_index,test_index in kfold.split(dummytrain,y):\n",
    "    xtrain=dummytrain.iloc[train_index]\n",
    "    ytrain=y.iloc[train_index]\n",
    "    xtest=dummytrain.iloc[test_index] #validation set\n",
    "    ytest=y.iloc[test_index] #validation set\n",
    "    \n",
    "    pred_train=(xgb.fit(xtrain,ytrain).predict(xtrain))\n",
    "    pred_test=(xgb.fit(xtrain,ytrain).predict(xtest))\n",
    "    \n",
    "    rmse_train.append(np.sqrt(mean_squared_error(ytrain,pred_train)))\n",
    "    rmse_test.append(np.sqrt(mean_squared_error(ytest,pred_test)))\n",
    "    \n",
    "print(np.mean(rmse_train))\n",
    "print(np.mean(rmse_test))"
   ]
  },
  {
   "cell_type": "markdown",
   "id": "a2b9cc08",
   "metadata": {},
   "source": [
    "## Parameters Tuning with Random Forest"
   ]
  },
  {
   "cell_type": "code",
   "execution_count": 207,
   "id": "3f5ac486",
   "metadata": {},
   "outputs": [
    {
     "name": "stdout",
     "output_type": "stream",
     "text": [
      "7.834234626133383\n",
      "12.505159811250294\n"
     ]
    }
   ],
   "source": [
    "rf = RandomForestRegressor(min_samples_leaf=4, n_estimators = 500, random_state = 0)\n",
    "\n",
    "pred_train=[]\n",
    "pred_test=[]\n",
    "\n",
    "rmse_train=[]\n",
    "rmse_test=[]\n",
    "\n",
    "for train_index,test_index in kfold.split(dummytrain,y):\n",
    "    xtrain=dummytrain.iloc[train_index]\n",
    "    ytrain=y.iloc[train_index]\n",
    "    xtest=dummytrain.iloc[test_index] #validation set\n",
    "    ytest=y.iloc[test_index] #validation set\n",
    "    \n",
    "    pred_train=(rf.fit(xtrain,ytrain).predict(xtrain))\n",
    "    pred_test=(rf.fit(xtrain,ytrain).predict(xtest))\n",
    "    \n",
    "    rmse_train.append(np.sqrt(mean_squared_error(ytrain,pred_train)))\n",
    "    rmse_test.append(np.sqrt(mean_squared_error(ytest,pred_test)))\n",
    "    \n",
    "print(np.mean(rmse_train))\n",
    "print(np.mean(rmse_test))"
   ]
  },
  {
   "cell_type": "markdown",
   "id": "4525f0ca",
   "metadata": {},
   "source": [
    "## Final Predictions"
   ]
  },
  {
   "cell_type": "markdown",
   "id": "73c605cb",
   "metadata": {},
   "source": [
    "**Random Forest**"
   ]
  },
  {
   "cell_type": "code",
   "execution_count": 211,
   "id": "79d87ab6",
   "metadata": {},
   "outputs": [],
   "source": [
    "rf = RandomForestRegressor(min_samples_leaf=4, n_estimators = 500, random_state = 0)\n",
    "\n",
    "pred=[]\n",
    "\n",
    "for train_index,test_index in kfold.split(dummytrain,y):\n",
    "    xtrain=dummytrain.iloc[train_index]\n",
    "    ytrain=y.iloc[train_index]\n",
    "    pred.append(rf.fit(xtrain,ytrain).predict(dummytest))"
   ]
  },
  {
   "cell_type": "code",
   "execution_count": 230,
   "id": "b553e5fb",
   "metadata": {},
   "outputs": [
    {
     "data": {
      "text/plain": [
       "0    39.156663\n",
       "dtype: float64"
      ]
     },
     "execution_count": 230,
     "metadata": {},
     "output_type": "execute_result"
    }
   ],
   "source": [
    "pred = pd.DataFrame(pred).T.mean(axis=1)\n",
    "pred.head()"
   ]
  },
  {
   "cell_type": "code",
   "execution_count": 221,
   "id": "b779e120",
   "metadata": {},
   "outputs": [],
   "source": [
    "sub[\"calculated_total_amount\"] = pred"
   ]
  },
  {
   "cell_type": "code",
   "execution_count": 222,
   "id": "fed2ff3a",
   "metadata": {},
   "outputs": [],
   "source": [
    "sub.to_csv(\"RF.csv\", index = False)         ## RMSE - 19.66274"
   ]
  },
  {
   "cell_type": "code",
   "execution_count": null,
   "id": "4e48d1a6",
   "metadata": {},
   "outputs": [],
   "source": [
    "## XGBoost"
   ]
  },
  {
   "cell_type": "code",
   "execution_count": null,
   "id": "3c2bbbb1",
   "metadata": {},
   "outputs": [],
   "source": []
  },
  {
   "cell_type": "markdown",
   "id": "f5173239",
   "metadata": {},
   "source": [
    "## Stacking Model"
   ]
  },
  {
   "cell_type": "code",
   "execution_count": 233,
   "id": "5015c2c9",
   "metadata": {},
   "outputs": [],
   "source": [
    "from sklearn.ensemble import StackingRegressor\n",
    "pred=[]\n",
    "base = [(\"lr\", lr), (\"gbm\", gbm), (\"xgb\", xgb), (\"lgb\", lgb)]\n",
    "final = RandomForestRegressor(n_estimators=500, min_samples_leaf=4, random_state=0)\n",
    "\n",
    "stack = StackingRegressor(estimators=base, final_estimator=final, cv=5)\n",
    "\n",
    "pred.append(stack.fit(dummytrain, y).predict(dummytest))\n",
    "finalpred = pd.DataFrame(pred).T.mean(axis=1)\n",
    "sub = pd.DataFrame({\"calculated_total_amount\": finalpred})\n",
    "sub.to_csv(\"StackingRegressor.csv\", index = False)"
   ]
  },
  {
   "cell_type": "code",
   "execution_count": null,
   "id": "370965b3",
   "metadata": {},
   "outputs": [],
   "source": [
    "pred"
   ]
  },
  {
   "cell_type": "code",
   "execution_count": 236,
   "id": "c029843a",
   "metadata": {},
   "outputs": [
    {
     "data": {
      "text/plain": [
       "<AxesSubplot:>"
      ]
     },
     "execution_count": 236,
     "metadata": {},
     "output_type": "execute_result"
    },
    {
     "data": {
      "image/png": "[encoded data removed]",
      "text/plain": [
       "<Figure size 1080x576 with 1 Axes>"
      ]
     },
     "metadata": {},
     "output_type": "display_data"
    }
   ],
   "source": [
    "pd.DataFrame(rf.feature_importances_, index = dummytest.columns, columns = [\"Feats\"]).sort_values(by=\"Feats\").plot(kind=\"barh\") "
   ]
  }
 ],
 "metadata": {
  "kernelspec": {
   "display_name": "Python 3 (ipykernel)",
   "language": "python",
   "name": "python3"
  },
  "language_info": {
   "codemirror_mode": {
    "name": "ipython",
    "version": 3
   },
   "file_extension": ".py",
   "mimetype": "text/x-python",
   "name": "python",
   "nbconvert_exporter": "python",
   "pygments_lexer": "ipython3",
   "version": "3.9.12"
  }
 },
 "nbformat": 4,
 "nbformat_minor": 5
}
